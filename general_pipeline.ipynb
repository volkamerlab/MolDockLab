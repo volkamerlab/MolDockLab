{
 "cells": [
  {
   "cell_type": "markdown",
   "metadata": {},
   "source": [
    "# This pipeline is a fork of DockM8"
   ]
  },
  {
   "cell_type": "code",
   "execution_count": 3,
   "metadata": {},
   "outputs": [],
   "source": [
    "#Import required libraries and scripts\n",
    "from DockM8.docking_functions import *\n",
    "from DockM8.rescoring_functions import *\n",
    "from DockM8.consensus_methods import *\n",
    "# from DockM8.scripts.dogsitescorer import *\n",
    "# from DockM8.scripts.get_pocket import *\n",
    "from tqdm.autonotebook import tqdm"
   ]
  },
  {
   "cell_type": "code",
   "execution_count": 4,
   "metadata": {},
   "outputs": [],
   "source": [
    "protein_name  = 'chain_cd_noligand.pdb'\n",
    "ligand_library = 'ecft_scores_new_cleaned.sdf'\n",
    "reference_ligand = 'protein_protoss_noligand_pocket.pdb'\n",
    "snapshot_IDs = ['p9', 'p11']"
   ]
  },
  {
   "cell_type": "code",
   "execution_count": 5,
   "metadata": {},
   "outputs": [],
   "source": [
    "HERE = Path(_dh[-1])\n",
    "DATA = (HERE / \"data\")\n",
    "\n",
    "# Move input data (protein pdb, docking library and reference ligand) to data directory\n",
    "software = (HERE / \"software\")\n",
    "protein_file = (DATA  / protein_name)\n",
    "ligand_library = (DATA / ligand_library)\n",
    "ref_file = (DATA / reference_ligand)\n",
    "\n",
    "\n",
    "OUTPUT = DATA / \"results\"\n"
   ]
  },
  {
   "cell_type": "markdown",
   "metadata": {},
   "source": [
    "### Move snapshots to another different folders"
   ]
  },
  {
   "cell_type": "markdown",
   "metadata": {},
   "source": [
    "### Load Ground truth data with 2D compounds ['ID', '2D structure', 'Activity score']"
   ]
  },
  {
   "cell_type": "markdown",
   "metadata": {},
   "source": [
    "# Data-preprocessing"
   ]
  },
  {
   "cell_type": "markdown",
   "metadata": {},
   "source": [
    "### Protein is prepared by [Protoss](https://proteins.plus/)"
   ]
  },
  {
   "cell_type": "markdown",
   "metadata": {},
   "source": [
    "### Ligand library preparation by Gypsum-DL for 3D conformers generation"
   ]
  },
  {
   "cell_type": "code",
   "execution_count": 6,
   "metadata": {},
   "outputs": [
    {
     "name": "stdout",
     "output_type": "stream",
     "text": [
      "Molecules are already prepared\n"
     ]
    }
   ],
   "source": [
    "from data_preparation import run_gypsumdl\n",
    "\n",
    "\n",
    "prepared_library_path = OUTPUT / f\"{ligand_library.stem}_prepared.sdf\"\n",
    "run_gypsumdl(ligand_library, prepared_library_path)\n"
   ]
  },
  {
   "cell_type": "code",
   "execution_count": 5,
   "metadata": {},
   "outputs": [
    {
     "data": {
      "text/html": [
       "<div>\n",
       "<style scoped>\n",
       "    .dataframe tbody tr th:only-of-type {\n",
       "        vertical-align: middle;\n",
       "    }\n",
       "\n",
       "    .dataframe tbody tr th {\n",
       "        vertical-align: top;\n",
       "    }\n",
       "\n",
       "    .dataframe thead th {\n",
       "        text-align: right;\n",
       "    }\n",
       "</style>\n",
       "<table border=\"1\" class=\"dataframe\">\n",
       "  <thead>\n",
       "    <tr style=\"text-align: right;\">\n",
       "      <th></th>\n",
       "      <th>ID</th>\n",
       "      <th>ROMol</th>\n",
       "    </tr>\n",
       "  </thead>\n",
       "  <tbody>\n",
       "    <tr>\n",
       "      <th>0</th>\n",
       "      <td>HIPS6128</td>\n",
       "      <td>&lt;rdkit.Chem.rdchem.Mol object at 0x7fea69651000&gt;</td>\n",
       "    </tr>\n",
       "    <tr>\n",
       "      <th>1</th>\n",
       "      <td>HIPS449</td>\n",
       "      <td>&lt;rdkit.Chem.rdchem.Mol object at 0x7fea69651070&gt;</td>\n",
       "    </tr>\n",
       "    <tr>\n",
       "      <th>2</th>\n",
       "      <td>HIPS6989</td>\n",
       "      <td>&lt;rdkit.Chem.rdchem.Mol object at 0x7fea696510e0&gt;</td>\n",
       "    </tr>\n",
       "    <tr>\n",
       "      <th>3</th>\n",
       "      <td>HIPS7002</td>\n",
       "      <td>&lt;rdkit.Chem.rdchem.Mol object at 0x7fea69651150&gt;</td>\n",
       "    </tr>\n",
       "    <tr>\n",
       "      <th>4</th>\n",
       "      <td>HIPS7000</td>\n",
       "      <td>&lt;rdkit.Chem.rdchem.Mol object at 0x7fea696511c0&gt;</td>\n",
       "    </tr>\n",
       "  </tbody>\n",
       "</table>\n",
       "</div>"
      ],
      "text/plain": [
       "         ID                                             ROMol\n",
       "0  HIPS6128  <rdkit.Chem.rdchem.Mol object at 0x7fea69651000>\n",
       "1   HIPS449  <rdkit.Chem.rdchem.Mol object at 0x7fea69651070>\n",
       "2  HIPS6989  <rdkit.Chem.rdchem.Mol object at 0x7fea696510e0>\n",
       "3  HIPS7002  <rdkit.Chem.rdchem.Mol object at 0x7fea69651150>\n",
       "4  HIPS7000  <rdkit.Chem.rdchem.Mol object at 0x7fea696511c0>"
      ]
     },
     "execution_count": 5,
     "metadata": {},
     "output_type": "execute_result"
    }
   ],
   "source": [
    "df_prepared = PandasTools.LoadSDF(str(prepared_library_path))\n",
    "df_prepared.head(5)"
   ]
  },
  {
   "cell_type": "code",
   "execution_count": 6,
   "metadata": {},
   "outputs": [],
   "source": [
    "docking_programs = [\n",
    "                # 'GNINA', \n",
    "                # 'SMINA',\n",
    "                # 'local_diffdock', \n",
    "                # 'PLANTS', \n",
    "                'flexx',\n",
    "                ]\n",
    "\n",
    "\n",
    "consensus_methods = []\n",
    "n_poses = 10\n",
    "exhaustiveness = 8"
   ]
  },
  {
   "cell_type": "markdown",
   "metadata": {},
   "source": [
    "# Docking"
   ]
  },
  {
   "cell_type": "markdown",
   "metadata": {},
   "source": [
    "1. Local DiffDock\n",
    "2. PLANTS (Implemented by DockM8)\n",
    "3. SMINA (Implemented by DockM8)\n",
    "4. GNINA (Implemented by DockM8)\n",
    "5. FlexX\n",
    "\n",
    "NOTE : Output of docking step should have at least two columns \n",
    " 1. **ID** : Name of the compound , name of docking tool and number of pose e.g. (compoundX_diffdock_01)\n",
    " 2. **Molecule** : Poses of every docking tool"
   ]
  },
  {
   "cell_type": "code",
   "execution_count": 7,
   "metadata": {},
   "outputs": [
    {
     "name": "stdout",
     "output_type": "stream",
     "text": [
      "Extracting ligand coordinates supports either SDF files or PDB files...\n",
      "Reference ligand is already in SDF format\n",
      "/home/ibrahim/Github/general_pipeline/data/results/flexx/flexx_poses.sdf\n",
      "Compounds are already docked with FlexX v 6.0\n"
     ]
    },
    {
     "name": "stdout",
     "output_type": "stream",
     "text": [
      "Compounds are already docked and concatenated, CHECK /home/ibrahim/Github/general_pipeline/data/results/flexx/flexx_poses.sdf\n"
     ]
    },
    {
     "data": {
      "text/html": [
       "<div>\n",
       "<style scoped>\n",
       "    .dataframe tbody tr th:only-of-type {\n",
       "        vertical-align: middle;\n",
       "    }\n",
       "\n",
       "    .dataframe tbody tr th {\n",
       "        vertical-align: top;\n",
       "    }\n",
       "\n",
       "    .dataframe thead th {\n",
       "        text-align: right;\n",
       "    }\n",
       "</style>\n",
       "<table border=\"1\" class=\"dataframe\">\n",
       "  <thead>\n",
       "    <tr style=\"text-align: right;\">\n",
       "      <th></th>\n",
       "      <th>ID</th>\n",
       "      <th>Molecule</th>\n",
       "    </tr>\n",
       "  </thead>\n",
       "  <tbody>\n",
       "    <tr>\n",
       "      <th>0</th>\n",
       "      <td>HIPS6128_01</td>\n",
       "      <td>&lt;rdkit.Chem.rdchem.Mol object at 0x7fea6918e730&gt;</td>\n",
       "    </tr>\n",
       "    <tr>\n",
       "      <th>1</th>\n",
       "      <td>HIPS6128_02</td>\n",
       "      <td>&lt;rdkit.Chem.rdchem.Mol object at 0x7fea6918d2a0&gt;</td>\n",
       "    </tr>\n",
       "    <tr>\n",
       "      <th>2</th>\n",
       "      <td>HIPS6128_03</td>\n",
       "      <td>&lt;rdkit.Chem.rdchem.Mol object at 0x7fea6918d5b0&gt;</td>\n",
       "    </tr>\n",
       "    <tr>\n",
       "      <th>3</th>\n",
       "      <td>HIPS6128_04</td>\n",
       "      <td>&lt;rdkit.Chem.rdchem.Mol object at 0x7fea690a33e0&gt;</td>\n",
       "    </tr>\n",
       "    <tr>\n",
       "      <th>4</th>\n",
       "      <td>HIPS6128_05</td>\n",
       "      <td>&lt;rdkit.Chem.rdchem.Mol object at 0x7fea690a3450&gt;</td>\n",
       "    </tr>\n",
       "    <tr>\n",
       "      <th>...</th>\n",
       "      <td>...</td>\n",
       "      <td>...</td>\n",
       "    </tr>\n",
       "    <tr>\n",
       "      <th>2094</th>\n",
       "      <td>HIPS6787_06</td>\n",
       "      <td>&lt;rdkit.Chem.rdchem.Mol object at 0x7fea69118f90&gt;</td>\n",
       "    </tr>\n",
       "    <tr>\n",
       "      <th>2095</th>\n",
       "      <td>HIPS6787_07</td>\n",
       "      <td>&lt;rdkit.Chem.rdchem.Mol object at 0x7fea69119000&gt;</td>\n",
       "    </tr>\n",
       "    <tr>\n",
       "      <th>2096</th>\n",
       "      <td>HIPS6787_08</td>\n",
       "      <td>&lt;rdkit.Chem.rdchem.Mol object at 0x7fea69119070&gt;</td>\n",
       "    </tr>\n",
       "    <tr>\n",
       "      <th>2097</th>\n",
       "      <td>HIPS6787_09</td>\n",
       "      <td>&lt;rdkit.Chem.rdchem.Mol object at 0x7fea691190e0&gt;</td>\n",
       "    </tr>\n",
       "    <tr>\n",
       "      <th>2098</th>\n",
       "      <td>HIPS6787_10</td>\n",
       "      <td>&lt;rdkit.Chem.rdchem.Mol object at 0x7fea69119150&gt;</td>\n",
       "    </tr>\n",
       "  </tbody>\n",
       "</table>\n",
       "<p>2099 rows × 2 columns</p>\n",
       "</div>"
      ],
      "text/plain": [
       "               ID                                          Molecule\n",
       "0     HIPS6128_01  <rdkit.Chem.rdchem.Mol object at 0x7fea6918e730>\n",
       "1     HIPS6128_02  <rdkit.Chem.rdchem.Mol object at 0x7fea6918d2a0>\n",
       "2     HIPS6128_03  <rdkit.Chem.rdchem.Mol object at 0x7fea6918d5b0>\n",
       "3     HIPS6128_04  <rdkit.Chem.rdchem.Mol object at 0x7fea690a33e0>\n",
       "4     HIPS6128_05  <rdkit.Chem.rdchem.Mol object at 0x7fea690a3450>\n",
       "...           ...                                               ...\n",
       "2094  HIPS6787_06  <rdkit.Chem.rdchem.Mol object at 0x7fea69118f90>\n",
       "2095  HIPS6787_07  <rdkit.Chem.rdchem.Mol object at 0x7fea69119000>\n",
       "2096  HIPS6787_08  <rdkit.Chem.rdchem.Mol object at 0x7fea69119070>\n",
       "2097  HIPS6787_09  <rdkit.Chem.rdchem.Mol object at 0x7fea691190e0>\n",
       "2098  HIPS6787_10  <rdkit.Chem.rdchem.Mol object at 0x7fea69119150>\n",
       "\n",
       "[2099 rows x 2 columns]"
      ]
     },
     "metadata": {},
     "output_type": "display_data"
    }
   ],
   "source": [
    "from docking import docking\n",
    "docking(\n",
    "        docking_programs,\n",
    "        protein_file,\n",
    "        prepared_library_path,\n",
    "        ref_file,\n",
    "        exhaustiveness,\n",
    "        n_poses\n",
    "        )"
   ]
  },
  {
   "cell_type": "code",
   "execution_count": null,
   "metadata": {},
   "outputs": [],
   "source": [
    "@ TODO : Rescore poses with all rescoring functions"
   ]
  },
  {
   "cell_type": "markdown",
   "metadata": {},
   "source": [
    "# Rescoring"
   ]
  },
  {
   "cell_type": "markdown",
   "metadata": {},
   "source": [
    "### Choose wanted scoring function from the next list"
   ]
  },
  {
   "cell_type": "code",
   "execution_count": null,
   "metadata": {},
   "outputs": [],
   "source": [
    "rescoring = [\n",
    "    'gnina', \n",
    "    'AD4',  \n",
    "    'LinF9', \n",
    "    'RTMScore', \n",
    "    'vinardo', \n",
    "    'SCORCH',\n",
    "        \n",
    "    'CHEMPLP', \n",
    "    'rfscorevs_V1',\n",
    "    'rfscorevs_V2',\n",
    "    'rfscorevs_V3', \n",
    "    'vina_hydrophobic', \n",
    "    'vina_intra_hydrophobic'\n",
    "    ]\n"
   ]
  },
  {
   "cell_type": "markdown",
   "metadata": {},
   "source": [
    "### Run Rescoring"
   ]
  },
  {
   "cell_type": "markdown",
   "metadata": {},
   "source": [
    "# Consensus ranking methods (Implemented by DockM8)\n",
    "### You can also choose the ranking methods according to you preference"
   ]
  },
  {
   "cell_type": "markdown",
   "metadata": {},
   "source": [
    "### Run Ranking methods"
   ]
  }
 ],
 "metadata": {
  "kernelspec": {
   "display_name": "dockm8",
   "language": "python",
   "name": "python3"
  },
  "language_info": {
   "codemirror_mode": {
    "name": "ipython",
    "version": 3
   },
   "file_extension": ".py",
   "mimetype": "text/x-python",
   "name": "python",
   "nbconvert_exporter": "python",
   "pygments_lexer": "ipython3",
   "version": "3.10.12"
  },
  "orig_nbformat": 4
 },
 "nbformat": 4,
 "nbformat_minor": 2
}
