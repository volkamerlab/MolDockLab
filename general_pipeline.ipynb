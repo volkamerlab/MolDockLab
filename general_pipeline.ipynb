{
 "cells": [
  {
   "cell_type": "markdown",
   "metadata": {},
   "source": [
    "# This pipeline is a fork of DockM8"
   ]
  },
  {
   "cell_type": "code",
   "execution_count": 1,
   "metadata": {},
   "outputs": [],
   "source": [
    "#Import required libraries and scripts\n",
    "from DockM8.docking_functions import *\n",
    "from DockM8.rescoring_functions import *\n",
    "from DockM8.consensus_methods import *\n",
    "# from DockM8.scripts.dogsitescorer import *\n",
    "# from DockM8.scripts.get_pocket import *\n",
    "from tqdm.autonotebook import tqdm"
   ]
  },
  {
   "cell_type": "code",
   "execution_count": 2,
   "metadata": {},
   "outputs": [],
   "source": [
    "protein_name  = 'protein_protoss_noligand.pdb'\n",
    "ligand_library = 'ecft_scores_new_cleaned.sdf'\n",
    "reference_ligand = 'ref_ligand.pdb'\n",
    "# snapshot_IDs = ['p9', 'p11']"
   ]
  },
  {
   "cell_type": "code",
   "execution_count": 17,
   "metadata": {},
   "outputs": [
    {
     "name": "stdout",
     "output_type": "stream",
     "text": [
      "/home/ibrahim/Github/ECFT-VS-pipeline/data/ecft_scores_new_cleaned.sdf\n"
     ]
    }
   ],
   "source": [
    "HERE = Path(_dh[-1])\n",
    "DATA = (HERE / \"data\")\n",
    "# Move input data (protein pdb, docking library and reference ligand) to data directory\n",
    "software = (HERE / \"software\")\n",
    "protein_file = (DATA  / protein_name)\n",
    "ligand_library = (DATA / ligand_library)\n",
    "ref_file = (DATA /  reference_ligand)\n",
    "\n",
    "print(ligand_library)\n",
    "\n",
    "OUTPUT = DATA / \"results\""
   ]
  },
  {
   "cell_type": "markdown",
   "metadata": {},
   "source": [
    "### Move snapshots to another different folders"
   ]
  },
  {
   "cell_type": "markdown",
   "metadata": {},
   "source": [
    "### Load Ground truth data with 2D compounds ['ID', '2D structure', 'Activity score']"
   ]
  },
  {
   "cell_type": "markdown",
   "metadata": {},
   "source": [
    "# Data-preprocessing"
   ]
  },
  {
   "cell_type": "markdown",
   "metadata": {},
   "source": [
    "### Protein is prepared by [Protoss](https://proteins.plus/)"
   ]
  },
  {
   "cell_type": "markdown",
   "metadata": {},
   "source": [
    "### Ligand library preparation by Gypsum-DL for 3D conformers generation"
   ]
  },
  {
   "cell_type": "code",
   "execution_count": 4,
   "metadata": {},
   "outputs": [
    {
     "name": "stdout",
     "output_type": "stream",
     "text": [
      "Molecules are already prepared\n"
     ]
    }
   ],
   "source": [
    "from data_preparation import run_gypsumdl\n",
    "\n",
    "\n",
    "prepared_library_path = OUTPUT / f\"{ligand_library.stem}_prepared.sdf\"\n",
    "run_gypsumdl(ligand_library, prepared_library_path)"
   ]
  },
  {
   "cell_type": "code",
   "execution_count": 5,
   "metadata": {},
   "outputs": [
    {
     "data": {
      "text/html": [
       "<div>\n",
       "<style scoped>\n",
       "    .dataframe tbody tr th:only-of-type {\n",
       "        vertical-align: middle;\n",
       "    }\n",
       "\n",
       "    .dataframe tbody tr th {\n",
       "        vertical-align: top;\n",
       "    }\n",
       "\n",
       "    .dataframe thead th {\n",
       "        text-align: right;\n",
       "    }\n",
       "</style>\n",
       "<table border=\"1\" class=\"dataframe\">\n",
       "  <thead>\n",
       "    <tr style=\"text-align: right;\">\n",
       "      <th></th>\n",
       "      <th>ID</th>\n",
       "      <th>ROMol</th>\n",
       "    </tr>\n",
       "  </thead>\n",
       "  <tbody>\n",
       "    <tr>\n",
       "      <th>0</th>\n",
       "      <td>HIPS6128</td>\n",
       "      <td>&lt;rdkit.Chem.rdchem.Mol object at 0x7f0071d7cc80&gt;</td>\n",
       "    </tr>\n",
       "    <tr>\n",
       "      <th>1</th>\n",
       "      <td>HIPS449</td>\n",
       "      <td>&lt;rdkit.Chem.rdchem.Mol object at 0x7f00761aab90&gt;</td>\n",
       "    </tr>\n",
       "    <tr>\n",
       "      <th>2</th>\n",
       "      <td>HIPS6989</td>\n",
       "      <td>&lt;rdkit.Chem.rdchem.Mol object at 0x7f011035a500&gt;</td>\n",
       "    </tr>\n",
       "    <tr>\n",
       "      <th>3</th>\n",
       "      <td>HIPS7002</td>\n",
       "      <td>&lt;rdkit.Chem.rdchem.Mol object at 0x7f0071d7ccf0&gt;</td>\n",
       "    </tr>\n",
       "    <tr>\n",
       "      <th>4</th>\n",
       "      <td>HIPS7000</td>\n",
       "      <td>&lt;rdkit.Chem.rdchem.Mol object at 0x7f0071d7cd60&gt;</td>\n",
       "    </tr>\n",
       "  </tbody>\n",
       "</table>\n",
       "</div>"
      ],
      "text/plain": [
       "         ID                                             ROMol\n",
       "0  HIPS6128  <rdkit.Chem.rdchem.Mol object at 0x7f0071d7cc80>\n",
       "1   HIPS449  <rdkit.Chem.rdchem.Mol object at 0x7f00761aab90>\n",
       "2  HIPS6989  <rdkit.Chem.rdchem.Mol object at 0x7f011035a500>\n",
       "3  HIPS7002  <rdkit.Chem.rdchem.Mol object at 0x7f0071d7ccf0>\n",
       "4  HIPS7000  <rdkit.Chem.rdchem.Mol object at 0x7f0071d7cd60>"
      ]
     },
     "execution_count": 5,
     "metadata": {},
     "output_type": "execute_result"
    }
   ],
   "source": [
    "df_prepared = PandasTools.LoadSDF(str(prepared_library_path))\n",
    "df_prepared.head(5)"
   ]
  },
  {
   "cell_type": "code",
   "execution_count": 6,
   "metadata": {},
   "outputs": [],
   "source": [
    "docking_programs = [\n",
    "                'GNINA', \n",
    "                'SMINA',\n",
    "                'local_diffdock', \n",
    "                'PLANTS', \n",
    "                'flexx',\n",
    "                ]\n",
    "\n",
    "\n",
    "consensus_methods = []\n",
    "n_poses = 10\n",
    "exhaustiveness = 8"
   ]
  },
  {
   "cell_type": "markdown",
   "metadata": {},
   "source": [
    "# Docking"
   ]
  },
  {
   "cell_type": "markdown",
   "metadata": {},
   "source": [
    "1. Local DiffDock\n",
    "2. PLANTS (Implemented by DockM8)\n",
    "3. SMINA (Implemented by DockM8)\n",
    "4. GNINA (Implemented by DockM8)\n",
    "5. FlexX\n",
    "\n",
    "NOTE : Output of docking step should have at least two columns \n",
    " 1. **ID** : Name of the compound , name of docking tool and number of pose e.g. (compoundX_diffdock_01)\n",
    " 2. **Molecule** : Poses of every docking tool"
   ]
  },
  {
   "cell_type": "code",
   "execution_count": null,
   "metadata": {},
   "outputs": [
    {
     "name": "stdout",
     "output_type": "stream",
     "text": [
      "Extracting ligand coordinates supports either SDF files or PDB files...\n",
      "Compounds are already docked with GNINA v 1.0\n",
      "Compounds are already docked with SMINA\n",
      "Binding pocket is already extracted\n"
     ]
    },
    {
     "data": {
      "application/vnd.jupyter.widget-view+json": {
       "model_id": "0755e96a75064372a200e43fc9467886",
       "version_major": 2,
       "version_minor": 0
      },
      "text/plain": [
       "Local DiffDock is running ...:   0%|          | 0/212 [00:00<?, ?it/s]"
      ]
     },
     "metadata": {},
     "output_type": "display_data"
    },
    {
     "name": "stdout",
     "output_type": "stream",
     "text": [
      "Compound HIPS6128 is already docked with Local DiffDock\n",
      "Compound HIPS449 is already docked with Local DiffDock\n",
      "Compound HIPS6989 is already docked with Local DiffDock\n",
      "Compound HIPS7002 is already docked with Local DiffDock\n",
      "Compound HIPS7000 is already docked with Local DiffDock\n",
      "Compound HIPS6994 is already docked with Local DiffDock\n",
      "Compound HIPS6991 is already docked with Local DiffDock\n",
      "Compound HIPS6998 is already docked with Local DiffDock\n",
      "Compound HIPS7006 is already docked with Local DiffDock\n",
      "Compound HIPS7004 is already docked with Local DiffDock\n",
      "Compound HIPS7001 is already docked with Local DiffDock\n",
      "Compound HIPS6992 is already docked with Local DiffDock\n",
      "Compound HIPS6981 is already docked with Local DiffDock\n",
      "Compound HIPS6999 is already docked with Local DiffDock\n",
      "Compound HIPS7242 is already docked with Local DiffDock\n",
      "Compound HIPS470 is already docked with Local DiffDock\n",
      "Compound HIPS6984 is already docked with Local DiffDock\n",
      "Compound HIPS6990 is already docked with Local DiffDock\n",
      "Compound HIPS6985 is already docked with Local DiffDock\n",
      "Compound HIPS6458 is already docked with Local DiffDock\n",
      "Compound HIPS440 is already docked with Local DiffDock\n",
      "Compound HIPS6920 is already docked with Local DiffDock\n",
      "Compound HIPS611 is already docked with Local DiffDock\n",
      "Compound HIPS412 is already docked with Local DiffDock\n",
      "Compound HIPS6385 is already docked with Local DiffDock\n",
      "Compound HIPS7022 is already docked with Local DiffDock\n",
      "Compound HIPS5846 is already docked with Local DiffDock\n",
      "Compound HIPS7127 is already docked with Local DiffDock\n",
      "Compound HIPS341 is already docked with Local DiffDock\n",
      "Compound HIPS7005 is already docked with Local DiffDock\n",
      "Compound HIPS7116 is already docked with Local DiffDock\n",
      "Compound HIPS408 is already docked with Local DiffDock\n",
      "Compound HIPS345 is already docked with Local DiffDock\n",
      "Compound HIPS435 is already docked with Local DiffDock\n",
      "Compound HIPS6277 is already docked with Local DiffDock\n",
      "Compound HIPS5967 is already docked with Local DiffDock\n",
      "Compound HIPS380 is already docked with Local DiffDock\n",
      "Compound HIPS6566 is already docked with Local DiffDock\n",
      "Compound HIPS431 is already docked with Local DiffDock\n",
      "Compound HIPS6710 is already docked with Local DiffDock\n",
      "Compound HIPS418 is already docked with Local DiffDock\n",
      "Compound HIPS6134 is already docked with Local DiffDock\n",
      "Compound HIPS6295 is already docked with Local DiffDock\n",
      "Compound HIPS5765 is already docked with Local DiffDock\n",
      "Compound HIPS5763 is already docked with Local DiffDock\n",
      "Compound HIPS6546 is already docked with Local DiffDock\n",
      "Compound HIPS6135 is already docked with Local DiffDock\n",
      "Compound HIPS6066 is already docked with Local DiffDock\n",
      "Compound HIPS478 is already docked with Local DiffDock\n",
      "Compound HIPS6863 is already docked with Local DiffDock\n",
      "Compound HIPS529 is already docked with Local DiffDock\n",
      "Compound HIPS6547 is already docked with Local DiffDock\n",
      "Compound HIPS6129 is already docked with Local DiffDock\n",
      "Compound HIPS448 is already docked with Local DiffDock\n",
      "Compound HIPS6774 is already docked with Local DiffDock\n",
      "Compound HIPS7126 is already docked with Local DiffDock\n",
      "Compound HIPS550 is already docked with Local DiffDock\n",
      "Compound HIPS7009 is already docked with Local DiffDock\n",
      "Compound HIPS6101 is already docked with Local DiffDock\n",
      "Compound HIPS387 is already docked with Local DiffDock\n",
      "Compound HIPS456 is already docked with Local DiffDock\n",
      "Compound HIPS6091 is already docked with Local DiffDock\n",
      "Compound HIPS6092 is already docked with Local DiffDock\n",
      "Compound HIPS505 is already docked with Local DiffDock\n",
      "Compound HIPS5969 is already docked with Local DiffDock\n",
      "Compound HIPS6336 is already docked with Local DiffDock\n",
      "Compound HIPS6986 is already docked with Local DiffDock\n",
      "Compound HIPS6995 is already docked with Local DiffDock\n",
      "Compound HIPS5031 is already docked with Local DiffDock\n",
      "Compound HIPS6276 is already docked with Local DiffDock\n",
      "Compound HIPS342 is already docked with Local DiffDock\n",
      "Compound HIPS407 is already docked with Local DiffDock\n",
      "Compound HIPS5238 is already docked with Local DiffDock\n",
      "Compound HIPS343 is already docked with Local DiffDock\n",
      "Compound HIPS365 is already docked with Local DiffDock\n",
      "Compound HIPS410 is already docked with Local DiffDock\n",
      "Compound HIPS5921 is already docked with Local DiffDock\n",
      "Compound HIPS6563 is already docked with Local DiffDock\n",
      "Compound HIPS450 is already docked with Local DiffDock\n",
      "Compound HIPS346 is already docked with Local DiffDock\n",
      "Compound HIPS6457 is already docked with Local DiffDock\n",
      "Compound HIPS451 is already docked with Local DiffDock\n",
      "Compound HIPS414 is already docked with Local DiffDock\n",
      "Compound HIPS5843 is already docked with Local DiffDock\n",
      "Compound HIPS6245 is already docked with Local DiffDock\n",
      "Compound HIPS6415 is already docked with Local DiffDock\n",
      "Compound HIPS7008 is already docked with Local DiffDock\n",
      "Compound HIPS6993 is already docked with Local DiffDock\n",
      "Compound HIPS6701 is already docked with Local DiffDock\n",
      "Compound HIPS477 is already docked with Local DiffDock\n",
      "Compound HIPS6246 is already docked with Local DiffDock\n",
      "Compound HIPS6795 is already docked with Local DiffDock\n",
      "Compound HIPS6794 is already docked with Local DiffDock\n",
      "Compound HIPS7011 is already docked with Local DiffDock\n",
      "Compound HIPS5844 is already docked with Local DiffDock\n",
      "Compound HIPS452 is already docked with Local DiffDock\n",
      "Compound HIPS6124 is already docked with Local DiffDock\n",
      "Compound HIPS7010 is already docked with Local DiffDock\n",
      "Compound HIPS6247 is already docked with Local DiffDock\n",
      "Compound HIPS6838 is already docked with Local DiffDock\n",
      "Compound HIPS356 is already docked with Local DiffDock\n",
      "Compound HIPS5160 is already docked with Local DiffDock\n",
      "Compound HIPS422 is already docked with Local DiffDock\n",
      "Compound HIPS6897 is already docked with Local DiffDock\n",
      "Compound HIPS6968 is already docked with Local DiffDock\n",
      "Compound HIPS7007 is already docked with Local DiffDock\n",
      "Compound HIPS363 is already docked with Local DiffDock\n",
      "Compound HIPS5239 is already docked with Local DiffDock\n",
      "Compound HIPS7124 is already docked with Local DiffDock\n",
      "Compound HIPS7012 is already docked with Local DiffDock\n",
      "Compound HIPS6297 is already docked with Local DiffDock\n",
      "Compound HIPS5968 is already docked with Local DiffDock\n",
      "Compound HIPS6987 is already docked with Local DiffDock\n",
      "Compound HIPS6025 is already docked with Local DiffDock\n",
      "Compound HIPS6249 is already docked with Local DiffDock\n",
      "Compound HIPS6790 is already docked with Local DiffDock\n",
      "Compound HIPS390 is already docked with Local DiffDock\n",
      "Compound HIPS5076 is already docked with Local DiffDock\n",
      "Compound HIPS424 is already docked with Local DiffDock\n",
      "Compound HIPS6037 is already docked with Local DiffDock\n",
      "Compound HIPS5024 is already docked with Local DiffDock\n",
      "Compound HIPS6706 is already docked with Local DiffDock\n",
      "Compound HIPS6568 is already docked with Local DiffDock\n",
      "Compound HIPS352 is already docked with Local DiffDock\n",
      "Compound HIPS6136 is already docked with Local DiffDock\n",
      "Compound HIPS7003 is already docked with Local DiffDock\n",
      "Compound HIPS7070 is already docked with Local DiffDock\n",
      "Compound HIPS441 is already docked with Local DiffDock\n",
      "Compound HIPS5842 is already docked with Local DiffDock\n",
      "Compound HIPS5164 is already docked with Local DiffDock\n",
      "Compound HIPS7048 is already docked with Local DiffDock\n",
      "Compound HIPS7069 is already docked with Local DiffDock\n",
      "Compound HIPS482 is already docked with Local DiffDock\n",
      "Compound HIPS7050 is already docked with Local DiffDock\n",
      "Compound HIPS5841 is already docked with Local DiffDock\n",
      "Compound HIPS6026 is already docked with Local DiffDock\n",
      "Compound HIPS7123 is already docked with Local DiffDock\n",
      "Compound HIPS7125 is already docked with Local DiffDock\n",
      "Compound HIPS7032 is already docked with Local DiffDock\n",
      "Compound HIPS6063 is already docked with Local DiffDock\n",
      "Compound HIPS7013 is already docked with Local DiffDock\n",
      "Compound HIPS6826 is already docked with Local DiffDock\n",
      "Compound HIPS7014 is already docked with Local DiffDock\n",
      "Compound HIPS7051 is already docked with Local DiffDock\n",
      "Compound HIPS7049 is already docked with Local DiffDock\n",
      "Compound HIPS6312 is already docked with Local DiffDock\n",
      "Compound HIPS6839 is already docked with Local DiffDock\n",
      "Compound HIPS6988 is already docked with Local DiffDock\n",
      "Compound HIPS5993 is already docked with Local DiffDock\n",
      "Compound HIPS5023 is already docked with Local DiffDock\n",
      "Compound HIPS6996 is already docked with Local DiffDock\n",
      "Compound HIPS5022 is already docked with Local DiffDock\n",
      "Compound HIPS382 is already docked with Local DiffDock\n",
      "Compound HIPS5910 is already docked with Local DiffDock\n",
      "Compound HIPS6997 is already docked with Local DiffDock\n",
      "Compound HIPS7240 is already docked with Local DiffDock\n",
      "Compound HIPS5165 is already docked with Local DiffDock\n",
      "Compound HIPS6862 is already docked with Local DiffDock\n",
      "Compound HIPS6296 is already docked with Local DiffDock\n",
      "Compound HIPS314 is already docked with Local DiffDock\n",
      "Compound HIPS7112 is already docked with Local DiffDock\n",
      "Compound HIPS495 is already docked with Local DiffDock\n",
      "Compound HIPS7140 is already docked with Local DiffDock\n",
      "Compound HIPS347 is already docked with Local DiffDock\n",
      "Compound HIPS6709 is already docked with Local DiffDock\n",
      "Compound HIPS6705 is already docked with Local DiffDock\n",
      "Compound HIPS7128 is already docked with Local DiffDock\n",
      "Compound HIPS5964 is already docked with Local DiffDock\n",
      "Compound HIPS6840 is already docked with Local DiffDock\n",
      "Compound HIPS7239 is already docked with Local DiffDock\n",
      "Compound HIPS5920 is already docked with Local DiffDock\n",
      "Compound HIPS643 is already docked with Local DiffDock\n",
      "Compound HIPS6785 is already docked with Local DiffDock\n",
      "Compound HIPS5025 is already docked with Local DiffDock\n",
      "Compound HIPS7115 is already docked with Local DiffDock\n",
      "Compound HIPS6980 is already docked with Local DiffDock\n",
      "Compound HIPS6708 is already docked with Local DiffDock\n",
      "Compound HIPS6983 is already docked with Local DiffDock\n",
      "Compound HIPS6982 is already docked with Local DiffDock\n",
      "Compound HIPS7241 is already docked with Local DiffDock\n",
      "Compound HIPS5966 is already docked with Local DiffDock\n",
      "Compound HIPS5965 is already docked with Local DiffDock\n",
      "Compound HIPS5963 is already docked with Local DiffDock\n",
      "Compound HIPS6789 is already docked with Local DiffDock\n",
      "Compound HIPS6569 is already docked with Local DiffDock\n",
      "Compound HIPS6969 is already docked with Local DiffDock\n",
      "Compound HIPS7118 is already docked with Local DiffDock\n",
      "Compound HIPS5027 is already docked with Local DiffDock\n",
      "Compound HIPS6819 is already docked with Local DiffDock\n",
      "Compound HIPS6189 is already docked with Local DiffDock\n",
      "Compound HIPS6933 is already docked with Local DiffDock\n",
      "Compound HIPS6707 is already docked with Local DiffDock\n",
      "Compound HIPS7015 is already docked with Local DiffDock\n",
      "Compound HIPS6459 is already docked with Local DiffDock\n",
      "Compound HIPS5163 is already docked with Local DiffDock\n",
      "Compound HIPS5897 is already docked with Local DiffDock\n",
      "Compound HIPS7113 is already docked with Local DiffDock\n",
      "Compound HIPS7114 is already docked with Local DiffDock\n",
      "Compound HIPS5038 is already docked with Local DiffDock\n",
      "Compound HIPS6202 is already docked with Local DiffDock\n",
      "Compound HIPS5029 is already docked with Local DiffDock\n",
      "Compound HIPS5896 is already docked with Local DiffDock\n",
      "Compound HIPS5028 is already docked with Local DiffDock\n",
      "Compound HIPS5030 is already docked with Local DiffDock\n",
      "Compound HIPS5026 is already docked with Local DiffDock\n",
      "Compound HIPS5021 is already docked with Local DiffDock\n",
      "Compound HIPS5895 is already docked with Local DiffDock\n",
      "Compound HIPS5039 is already docked with Local DiffDock\n",
      "Compound HIPS6978 is already docked with Local DiffDock\n",
      "Compound HIPS6788 is already docked with Local DiffDock\n",
      "Compound HIPS6786 is already docked with Local DiffDock\n",
      "Compound HIPS6787 is already docked with Local DiffDock\n",
      "ERROR: [Errno 20] Not a directory: '/home/ibrahim/Github/ECFT-VS-pipeline/data/results/local_diffdock/local_diffdock_poses.sdf'\n",
      "Output folders might be deleted or moved to another directory\n",
      "Compounds are already docked and concatenated, CHECK /home/ibrahim/Github/ECFT-VS-pipeline/data/results/local_diffdock/local_diffdock_poses.sdf\n",
      "Protein is already converted to mol2 format\n",
      "Library is already converted to mol2 format\n",
      "Compounds are already docked with PLANTS\n",
      "Reference ligand is already in SDF format\n",
      "/home/ibrahim/Github/ECFT-VS-pipeline/data/results/flexx/flexx_poses.sdf\n",
      "Compounds are already docked with FlexX v 6.0\n",
      "ID format is correct\n"
     ]
    }
   ],
   "source": [
    "from docking import docking\n",
    "docking(\n",
    "        docking_programs,\n",
    "        protein_file,\n",
    "        prepared_library_path,\n",
    "        ref_file,\n",
    "        exhaustiveness,\n",
    "        n_poses\n",
    "        )"
   ]
  },
  {
   "cell_type": "markdown",
   "metadata": {},
   "source": [
    "# Rescoring"
   ]
  },
  {
   "cell_type": "markdown",
   "metadata": {},
   "source": [
    "### Choose wanted scoring function from the next list"
   ]
  },
  {
   "cell_type": "code",
   "execution_count": 15,
   "metadata": {},
   "outputs": [],
   "source": [
    "rescoring = [\n",
    "    'gnina_rescoring', \n",
    "    'ad4',  \n",
    "    'linf9', \n",
    "    'rtmscore', \n",
    "    'vinardo', \n",
    "    'scorch',\n",
    "        \n",
    "    'chemplp', \n",
    "    'rfscorevs_v1',\n",
    "    'rfscorevs_v2',\n",
    "    'rfscorevs_v3', \n",
    "    'vina_hydrophobic', \n",
    "    'vina_intra_hydrophobic'\n",
    "    ]\n",
    "\n",
    "# Load important dataframes\n"
   ]
  },
  {
   "cell_type": "code",
   "execution_count": 16,
   "metadata": {},
   "outputs": [
    {
     "name": "stdout",
     "output_type": "stream",
     "text": [
      "protein is already converted to mol2\n",
      "\n",
      "\n",
      "Now rescoring with GNINA_RESCORING ... ⌛⌛ \n",
      "gnina_rescoring is already excuted\n",
      "gnina_rescoring is already read\n",
      "\n",
      "\n",
      "Now rescoring with AD4 ... ⌛⌛ \n",
      "ad4 is already excuted\n",
      "ad4 is already read\n",
      "\n",
      "\n",
      "Now rescoring with LINF9 ... ⌛⌛ \n",
      "linf9 is already excuted\n",
      "linf9 is already read\n",
      "\n",
      "\n",
      "Now rescoring with RTMSCORE ... ⌛⌛ \n",
      "rtmscore is already excuted\n",
      "rtmscore is already read\n",
      "\n",
      "\n",
      "Now rescoring with VINARDO ... ⌛⌛ \n",
      "vinardo is already excuted\n",
      "vinardo is already read\n",
      "\n",
      "\n",
      "Now rescoring with SCORCH ... ⌛⌛ \n",
      "scorch is already excuted\n",
      "scorch is already read\n",
      "\n",
      "\n",
      "Now rescoring with CHEMPLP ... ⌛⌛ \n",
      "chemplp is already excuted\n",
      "chemplp is already read\n",
      "\n",
      "\n",
      "Now rescoring with RFSCOREVS_V1 ... ⌛⌛ \n",
      "rfscorevs_v1 is already excuted\n",
      "rfscorevs_v1 is already read\n",
      "\n",
      "\n",
      "Now rescoring with RFSCOREVS_V2 ... ⌛⌛ \n",
      "rfscorevs_v2 is already excuted\n",
      "rfscorevs_v2 is already read\n",
      "\n",
      "\n",
      "Now rescoring with RFSCOREVS_V3 ... ⌛⌛ \n",
      "rfscorevs_v3 is already excuted\n",
      "rfscorevs_v3 is already read\n",
      "\n",
      "\n",
      "Now rescoring with VINA_HYDROPHOBIC ... ⌛⌛ \n",
      "vina_hydrophobic is already excuted\n",
      "vina_hydrophobic is already read\n",
      "\n",
      "\n",
      "Now rescoring with VINA_INTRA_HYDROPHOBIC ... ⌛⌛ \n",
      "vina_intra_hydrophobic is already excuted\n",
      "vina_intra_hydrophobic is already read\n"
     ]
    }
   ],
   "source": [
    "from rescoring import rescoring_function\n",
    "  \n",
    "docked_library_path = OUTPUT / f\"allposes.sdf\"\n",
    "\n",
    "rescoring_function(\n",
    "    rescoring,\n",
    "    protein_file,\n",
    "    docked_library_path,\n",
    "    ref_file,\n",
    ")"
   ]
  },
  {
   "cell_type": "markdown",
   "metadata": {},
   "source": [
    "# Consensus ranking methods (Implemented by DockM8)\n",
    "### You can also choose the ranking methods according to you preference"
   ]
  },
  {
   "cell_type": "code",
   "execution_count": 7,
   "metadata": {},
   "outputs": [],
   "source": [
    "ranking_methods = [\n",
    "                'best_ECR' ,\n",
    "                'ECR_average',\n",
    "                'average_ECR' ,\n",
    "                'rank_by_rank' ,\n",
    "                'rank_by_vote' ,\n",
    "                'best_Zscore',\n",
    "                'average_Zscore'\n",
    "                ]"
   ]
  },
  {
   "cell_type": "code",
   "execution_count": 8,
   "metadata": {},
   "outputs": [],
   "source": [
    "df_rescored = pd.read_csv(str(DATA / 'results' / 'all_rescoring_results.csv')).apply(pd.to_numeric, errors='ignore')\n",
    "df_scores = PandasTools.LoadSDF(str(ligand_library))[['ID', 'score']]\n",
    "df_scores = df_scores.rename(columns={'score': 'true_value'})"
   ]
  },
  {
   "cell_type": "markdown",
   "metadata": {},
   "source": [
    "### Run Ranking methods"
   ]
  },
  {
   "cell_type": "code",
   "execution_count": 9,
   "metadata": {},
   "outputs": [
    {
     "name": "stdout",
     "output_type": "stream",
     "text": [
      "Number of possible combinations for every ranking method: 1015777\n",
      " With total combinations : 7110439\n",
      "Parallelizing best_ECR...\n"
     ]
    },
    {
     "name": "stderr",
     "output_type": "stream",
     "text": [
      "100%|██████████| 145111/145111 [1:17:19<00:00, 31.28it/s]\n",
      " 92%|█████████▏| 133057/145111 [1:17:28<08:09, 24.61it/s]"
     ]
    },
    {
     "name": "stdout",
     "output_type": "stream",
     "text": [
      "Execution time: 4648.840747117996 seconds\n"
     ]
    },
    {
     "name": "stderr",
     "output_type": "stream",
     "text": [
      "100%|██████████| 145111/145111 [1:24:14<00:00, 28.71it/s]\n",
      " 88%|████████▊ | 127380/145111 [1:24:21<09:05, 32.51it/s]"
     ]
    },
    {
     "name": "stdout",
     "output_type": "stream",
     "text": [
      "Execution time: 5062.0362293720245 seconds\n"
     ]
    },
    {
     "name": "stderr",
     "output_type": "stream",
     "text": [
      "100%|██████████| 145111/145111 [1:25:19<00:00, 28.35it/s]\n",
      " 89%|████████▉ | 129648/145111 [1:25:25<07:20, 35.13it/s]"
     ]
    },
    {
     "name": "stdout",
     "output_type": "stream",
     "text": [
      "Execution time: 5125.631903886795 seconds\n"
     ]
    },
    {
     "name": "stderr",
     "output_type": "stream",
     "text": [
      "100%|██████████| 145111/145111 [1:28:16<00:00, 27.40it/s]\n",
      " 89%|████████▉ | 129646/145111 [1:28:22<07:15, 35.53it/s]"
     ]
    },
    {
     "name": "stdout",
     "output_type": "stream",
     "text": [
      "Execution time: 5302.76443195343 seconds\n"
     ]
    },
    {
     "name": "stderr",
     "output_type": "stream",
     "text": [
      "100%|██████████| 145111/145111 [1:30:13<00:00, 26.80it/s]\n",
      " 98%|█████████▊| 141502/145111 [1:30:18<01:19, 45.51it/s]"
     ]
    },
    {
     "name": "stdout",
     "output_type": "stream",
     "text": [
      "Execution time: 5418.703077316284 seconds\n"
     ]
    },
    {
     "name": "stderr",
     "output_type": "stream",
     "text": [
      "100%|██████████| 145111/145111 [1:31:34<00:00, 26.41it/s]\n",
      " 95%|█████████▍| 137482/145111 [1:31:38<03:18, 38.38it/s]"
     ]
    },
    {
     "name": "stdout",
     "output_type": "stream",
     "text": [
      "Execution time: 5498.658306598663 seconds\n"
     ]
    },
    {
     "name": "stderr",
     "output_type": "stream",
     "text": [
      "100%|██████████| 145111/145111 [1:34:24<00:00, 25.62it/s]\n"
     ]
    },
    {
     "name": "stdout",
     "output_type": "stream",
     "text": [
      "Execution time: 5668.64576125145 seconds\n",
      "Parallelizing ECR_average...\n"
     ]
    },
    {
     "name": "stderr",
     "output_type": "stream",
     "text": [
      " 84%|████████▍ | 121767/145111 [1:45:52<15:25, 25.24it/s] \n",
      " 92%|█████████▏| 132883/145111 [1:46:00<07:35, 26.87it/s]"
     ]
    },
    {
     "name": "stdout",
     "output_type": "stream",
     "text": [
      "Execution time: 6360.388710260391 seconds\n"
     ]
    },
    {
     "name": "stderr",
     "output_type": "stream",
     "text": [
      "100%|██████████| 145111/145111 [1:50:52<00:00, 21.81it/s]\n",
      " 95%|█████████▌| 138058/145111 [1:50:59<03:19, 35.30it/s]"
     ]
    },
    {
     "name": "stdout",
     "output_type": "stream",
     "text": [
      "Execution time: 6659.607899188995 seconds\n"
     ]
    },
    {
     "name": "stderr",
     "output_type": "stream",
     "text": [
      "100%|██████████| 145111/145111 [1:51:15<00:00, 21.74it/s]\n",
      " 93%|█████████▎| 134435/145111 [1:51:21<04:56, 35.98it/s]"
     ]
    },
    {
     "name": "stdout",
     "output_type": "stream",
     "text": [
      "Execution time: 6681.409529685974 seconds\n"
     ]
    },
    {
     "name": "stderr",
     "output_type": "stream",
     "text": [
      "100%|██████████| 145111/145111 [1:53:55<00:00, 21.23it/s]\n",
      " 96%|█████████▌| 139068/145111 [1:54:01<02:40, 37.69it/s]"
     ]
    },
    {
     "name": "stdout",
     "output_type": "stream",
     "text": [
      "Execution time: 6841.373648405075 seconds\n"
     ]
    },
    {
     "name": "stderr",
     "output_type": "stream",
     "text": [
      "100%|██████████| 145111/145111 [1:55:32<00:00, 20.93it/s]\n",
      " 99%|█████████▉| 143353/145111 [1:55:37<00:40, 43.29it/s]"
     ]
    },
    {
     "name": "stdout",
     "output_type": "stream",
     "text": [
      "Execution time: 6937.5613758563995 seconds\n"
     ]
    },
    {
     "name": "stderr",
     "output_type": "stream",
     "text": [
      "100%|██████████| 145111/145111 [1:56:13<00:00, 20.81it/s]\n",
      " 95%|█████████▌| 138334/145111 [1:56:17<02:33, 44.19it/s]"
     ]
    },
    {
     "name": "stdout",
     "output_type": "stream",
     "text": [
      "Execution time: 6978.16214466095 seconds\n"
     ]
    },
    {
     "name": "stderr",
     "output_type": "stream",
     "text": [
      "100%|██████████| 145111/145111 [1:58:44<00:00, 20.37it/s]\n"
     ]
    },
    {
     "name": "stdout",
     "output_type": "stream",
     "text": [
      "Execution time: 7128.486462831497 seconds\n",
      "Parallelizing average_ECR...\n"
     ]
    },
    {
     "name": "stderr",
     "output_type": "stream",
     "text": [
      "100%|██████████| 145111/145111 [1:07:14<00:00, 35.97it/s]\n",
      " 91%|█████████▏| 132764/145111 [1:07:21<06:05, 33.76it/s]"
     ]
    },
    {
     "name": "stdout",
     "output_type": "stream",
     "text": [
      "Execution time: 4041.5251874923706 seconds"
     ]
    },
    {
     "name": "stderr",
     "output_type": "stream",
     "text": [
      " 96%|█████████▌| 139569/145111 [1:07:21<02:56, 31.36it/s]"
     ]
    },
    {
     "name": "stdout",
     "output_type": "stream",
     "text": [
      "\n"
     ]
    },
    {
     "name": "stderr",
     "output_type": "stream",
     "text": [
      "100%|██████████| 145111/145111 [1:09:46<00:00, 34.66it/s]\n",
      " 97%|█████████▋| 141143/145111 [1:09:53<01:48, 36.55it/s]"
     ]
    },
    {
     "name": "stdout",
     "output_type": "stream",
     "text": [
      "Execution time: 4193.101531982422 seconds"
     ]
    },
    {
     "name": "stderr",
     "output_type": "stream",
     "text": [
      " 96%|█████████▌| 138658/145111 [1:09:52<03:03, 35.12it/s]"
     ]
    },
    {
     "name": "stdout",
     "output_type": "stream",
     "text": [
      "\n"
     ]
    },
    {
     "name": "stderr",
     "output_type": "stream",
     "text": [
      "100%|██████████| 145111/145111 [1:09:56<00:00, 34.58it/s]\n",
      " 96%|█████████▌| 139286/145111 [1:10:02<03:03, 31.75it/s]"
     ]
    },
    {
     "name": "stdout",
     "output_type": "stream",
     "text": [
      "Execution time: 4203.152593135834 seconds"
     ]
    },
    {
     "name": "stderr",
     "output_type": "stream",
     "text": [
      " 94%|█████████▍| 136235/145111 [1:10:02<04:17, 34.47it/s]"
     ]
    },
    {
     "name": "stdout",
     "output_type": "stream",
     "text": [
      "\n"
     ]
    },
    {
     "name": "stderr",
     "output_type": "stream",
     "text": [
      "100%|██████████| 145111/145111 [1:11:27<00:00, 33.85it/s]\n",
      " 99%|█████████▊| 143051/145111 [1:11:33<00:49, 41.54it/s]"
     ]
    },
    {
     "name": "stdout",
     "output_type": "stream",
     "text": [
      "Execution time: 4293.282702207565 seconds\n"
     ]
    },
    {
     "name": "stderr",
     "output_type": "stream",
     "text": [
      "100%|██████████| 145111/145111 [1:12:00<00:00, 33.58it/s]\n",
      "100%|█████████▉| 144589/145111 [1:12:05<00:10, 47.86it/s]"
     ]
    },
    {
     "name": "stdout",
     "output_type": "stream",
     "text": [
      "Execution time: 4326.0263686180115 seconds\n"
     ]
    },
    {
     "name": "stderr",
     "output_type": "stream",
     "text": [
      "100%|██████████| 145111/145111 [1:12:15<00:00, 33.47it/s]\n",
      " 98%|█████████▊| 141896/145111 [1:12:20<01:11, 45.07it/s]"
     ]
    },
    {
     "name": "stdout",
     "output_type": "stream",
     "text": [
      "Execution time: 4340.373472690582 seconds\n"
     ]
    },
    {
     "name": "stderr",
     "output_type": "stream",
     "text": [
      "100%|██████████| 145111/145111 [1:13:26<00:00, 32.93it/s]\n"
     ]
    },
    {
     "name": "stdout",
     "output_type": "stream",
     "text": [
      "Execution time: 4410.4860916137695 seconds\n",
      "Parallelizing rank_by_rank...\n"
     ]
    },
    {
     "name": "stderr",
     "output_type": "stream",
     "text": [
      "100%|██████████| 145111/145111 [52:53<00:00, 45.72it/s] \n",
      " 85%|████████▌ | 123457/145111 [53:00<09:41, 37.25it/s]"
     ]
    },
    {
     "name": "stdout",
     "output_type": "stream",
     "text": [
      "Execution time: 3180.882963657379 seconds"
     ]
    },
    {
     "name": "stderr",
     "output_type": "stream",
     "text": [
      " 89%|████████▊ | 128645/145111 [53:00<06:33, 41.85it/s]"
     ]
    },
    {
     "name": "stdout",
     "output_type": "stream",
     "text": [
      "\n"
     ]
    },
    {
     "name": "stderr",
     "output_type": "stream",
     "text": [
      "100%|██████████| 145111/145111 [55:55<00:00, 43.25it/s]\n",
      " 94%|█████████▍| 136309/145111 [56:01<03:25, 42.73it/s]"
     ]
    },
    {
     "name": "stdout",
     "output_type": "stream",
     "text": [
      "Execution time: 3361.6917741298676 seconds\n"
     ]
    },
    {
     "name": "stderr",
     "output_type": "stream",
     "text": [
      "100%|██████████| 145111/145111 [56:23<00:00, 42.88it/s]\n",
      " 97%|█████████▋| 140936/145111 [56:30<01:30, 46.25it/s]"
     ]
    },
    {
     "name": "stdout",
     "output_type": "stream",
     "text": [
      "Execution time: 3390.277195930481 seconds\n"
     ]
    },
    {
     "name": "stderr",
     "output_type": "stream",
     "text": [
      "100%|██████████| 145111/145111 [57:49<00:00, 41.83it/s]\n",
      " 94%|█████████▍| 136722/145111 [57:54<02:55, 47.74it/s]"
     ]
    },
    {
     "name": "stdout",
     "output_type": "stream",
     "text": [
      "Execution time: 3474.490665435791 seconds\n"
     ]
    },
    {
     "name": "stderr",
     "output_type": "stream",
     "text": [
      "100%|██████████| 145111/145111 [58:39<00:00, 41.23it/s]\n",
      " 96%|█████████▌| 139450/145111 [58:44<01:43, 54.56it/s]"
     ]
    },
    {
     "name": "stdout",
     "output_type": "stream",
     "text": [
      "Execution time: 3525.20352101326 seconds\n"
     ]
    },
    {
     "name": "stderr",
     "output_type": "stream",
     "text": [
      "100%|██████████| 145111/145111 [58:56<00:00, 41.03it/s]\n",
      " 97%|█████████▋| 140374/145111 [59:00<01:24, 55.86it/s]"
     ]
    },
    {
     "name": "stdout",
     "output_type": "stream",
     "text": [
      "Execution time: 3541.020654439926 seconds\n"
     ]
    },
    {
     "name": "stderr",
     "output_type": "stream",
     "text": [
      "100%|██████████| 145111/145111 [1:00:17<00:00, 40.12it/s]\n"
     ]
    },
    {
     "name": "stdout",
     "output_type": "stream",
     "text": [
      "Execution time: 3621.545594215393 seconds\n",
      "Parallelizing rank_by_vote...\n"
     ]
    },
    {
     "name": "stderr",
     "output_type": "stream",
     "text": [
      " 87%|████████▋ | 126491/145111 [1:16:40<11:17, 27.46it/s]\n",
      " 95%|█████████▌| 137922/145111 [1:16:47<04:24, 27.18it/s]"
     ]
    },
    {
     "name": "stdout",
     "output_type": "stream",
     "text": [
      "Execution time: 4607.541902065277 seconds\n"
     ]
    },
    {
     "name": "stderr",
     "output_type": "stream",
     "text": [
      "100%|██████████| 145111/145111 [1:20:42<00:00, 29.97it/s]\n",
      "100%|██████████| 145111/145111 [1:20:43<00:00, 29.96it/s]\n",
      " 95%|█████████▍| 137295/145111 [1:20:48<05:06, 25.48it/s]"
     ]
    },
    {
     "name": "stdout",
     "output_type": "stream",
     "text": [
      "Execution time: 4849.039310932159 seconds\n"
     ]
    },
    {
     "name": "stderr",
     "output_type": "stream",
     "text": [
      " 92%|█████████▏| 133914/145111 [1:20:49<06:23, 29.19it/s]"
     ]
    },
    {
     "name": "stdout",
     "output_type": "stream",
     "text": [
      "Execution time: 4850.401869535446 seconds\n"
     ]
    },
    {
     "name": "stderr",
     "output_type": "stream",
     "text": [
      "100%|██████████| 145111/145111 [1:22:44<00:00, 29.23it/s]\n",
      " 98%|█████████▊| 142026/145111 [1:22:50<01:24, 36.62it/s]"
     ]
    },
    {
     "name": "stdout",
     "output_type": "stream",
     "text": [
      "Execution time: 4970.670939683914 seconds\n"
     ]
    },
    {
     "name": "stderr",
     "output_type": "stream",
     "text": [
      "100%|██████████| 145111/145111 [1:23:59<00:00, 28.79it/s]\n",
      "100%|█████████▉| 145021/145111 [1:24:04<00:02, 39.51it/s]"
     ]
    },
    {
     "name": "stdout",
     "output_type": "stream",
     "text": [
      "Execution time: 5044.602001905441 seconds\n"
     ]
    },
    {
     "name": "stderr",
     "output_type": "stream",
     "text": [
      "100%|██████████| 145111/145111 [1:24:06<00:00, 28.75it/s]\n",
      " 97%|█████████▋| 140851/145111 [1:24:10<01:53, 37.49it/s]"
     ]
    },
    {
     "name": "stdout",
     "output_type": "stream",
     "text": [
      "Execution time: 5051.002393960953 seconds\n"
     ]
    },
    {
     "name": "stderr",
     "output_type": "stream",
     "text": [
      "100%|██████████| 145111/145111 [1:25:57<00:00, 28.14it/s]\n"
     ]
    },
    {
     "name": "stdout",
     "output_type": "stream",
     "text": [
      "Execution time: 5161.737718105316 seconds\n",
      "Parallelizing best_Zscore...\n"
     ]
    },
    {
     "name": "stderr",
     "output_type": "stream",
     "text": [
      "100%|██████████| 145111/145111 [1:17:08<00:00, 31.35it/s]\n",
      " 80%|███████▉  | 115583/145111 [1:17:15<17:16, 28.48it/s]"
     ]
    },
    {
     "name": "stdout",
     "output_type": "stream",
     "text": [
      "Execution time: 4635.835487604141 seconds\n"
     ]
    },
    {
     "name": "stderr",
     "output_type": "stream",
     "text": [
      " 95%|█████████▌| 137980/145111 [1:23:16<03:58, 29.86it/s]\n",
      " 87%|████████▋ | 126036/145111 [1:23:22<12:17, 25.85it/s]"
     ]
    },
    {
     "name": "stdout",
     "output_type": "stream",
     "text": [
      "Execution time: 5003.291789770126 seconds\n"
     ]
    },
    {
     "name": "stderr",
     "output_type": "stream",
     "text": [
      " 93%|█████████▎| 134316/145111 [1:23:37<06:30, 27.64it/s]\n",
      " 96%|█████████▌| 138834/145111 [1:23:43<03:29, 29.91it/s]"
     ]
    },
    {
     "name": "stdout",
     "output_type": "stream",
     "text": [
      "Execution time: 5023.478915929794 seconds\n"
     ]
    },
    {
     "name": "stderr",
     "output_type": "stream",
     "text": [
      "100%|██████████| 145111/145111 [1:26:44<00:00, 27.88it/s]\n",
      " 97%|█████████▋| 140271/145111 [1:26:50<02:50, 28.40it/s]"
     ]
    },
    {
     "name": "stdout",
     "output_type": "stream",
     "text": [
      "Execution time: 5210.56543302536 seconds\n"
     ]
    },
    {
     "name": "stderr",
     "output_type": "stream",
     "text": [
      "100%|██████████| 145111/145111 [1:28:34<00:00, 27.31it/s]\n",
      " 94%|█████████▍| 136266/145111 [1:28:38<04:50, 30.43it/s]"
     ]
    },
    {
     "name": "stdout",
     "output_type": "stream",
     "text": [
      "Execution time: 5318.990394115448 seconds\n"
     ]
    },
    {
     "name": "stderr",
     "output_type": "stream",
     "text": [
      "100%|██████████| 145111/145111 [1:29:33<00:00, 27.01it/s]\n",
      " 95%|█████████▌| 138434/145111 [1:29:37<03:10, 34.97it/s]"
     ]
    },
    {
     "name": "stdout",
     "output_type": "stream",
     "text": [
      "Execution time: 5377.605813026428 seconds\n"
     ]
    },
    {
     "name": "stderr",
     "output_type": "stream",
     "text": [
      "100%|██████████| 145111/145111 [1:32:30<00:00, 26.14it/s]\n"
     ]
    },
    {
     "name": "stdout",
     "output_type": "stream",
     "text": [
      "Execution time: 5554.950061559677 seconds\n",
      "Parallelizing average_Zscore...\n"
     ]
    },
    {
     "name": "stderr",
     "output_type": "stream",
     "text": [
      " 89%|████████▉ | 129678/145111 [1:18:03<09:41, 26.54it/s]\n",
      " 86%|████████▌ | 124312/145111 [1:18:10<17:14, 20.10it/s]"
     ]
    },
    {
     "name": "stdout",
     "output_type": "stream",
     "text": [
      "Execution time: 4690.96949672699 seconds\n"
     ]
    },
    {
     "name": "stderr",
     "output_type": "stream",
     "text": [
      "100%|██████████| 145111/145111 [1:23:18<00:00, 29.03it/s]\n",
      " 99%|█████████▉| 144369/145111 [1:23:25<00:20, 35.67it/s]"
     ]
    },
    {
     "name": "stdout",
     "output_type": "stream",
     "text": [
      "Execution time: 5005.255040645599 seconds"
     ]
    },
    {
     "name": "stderr",
     "output_type": "stream",
     "text": [
      " 92%|█████████▏| 134008/145111 [1:23:24<06:19, 29.29it/s]"
     ]
    },
    {
     "name": "stdout",
     "output_type": "stream",
     "text": [
      "\n"
     ]
    },
    {
     "name": "stderr",
     "output_type": "stream",
     "text": [
      "100%|██████████| 145111/145111 [1:23:44<00:00, 28.88it/s]\n",
      " 94%|█████████▍| 136217/145111 [1:23:50<04:48, 30.82it/s]"
     ]
    },
    {
     "name": "stdout",
     "output_type": "stream",
     "text": [
      "Execution time: 5030.858374834061 seconds\n"
     ]
    },
    {
     "name": "stderr",
     "output_type": "stream",
     "text": [
      "100%|██████████| 145111/145111 [1:26:02<00:00, 28.11it/s]\n",
      " 93%|█████████▎| 134231/145111 [1:26:08<05:55, 30.64it/s]"
     ]
    },
    {
     "name": "stdout",
     "output_type": "stream",
     "text": [
      "Execution time: 5168.49117064476 seconds\n"
     ]
    },
    {
     "name": "stderr",
     "output_type": "stream",
     "text": [
      "100%|██████████| 145111/145111 [1:27:44<00:00, 27.56it/s]\n",
      " 99%|█████████▉| 143780/145111 [1:27:49<00:35, 37.70it/s]"
     ]
    },
    {
     "name": "stdout",
     "output_type": "stream",
     "text": [
      "Execution time: 5269.506246328354 seconds\n"
     ]
    },
    {
     "name": "stderr",
     "output_type": "stream",
     "text": [
      "100%|██████████| 145111/145111 [1:28:21<00:00, 27.37it/s]\n",
      " 96%|█████████▌| 139082/145111 [1:28:25<02:41, 37.22it/s]"
     ]
    },
    {
     "name": "stdout",
     "output_type": "stream",
     "text": [
      "Execution time: 5306.037352800369 seconds\n"
     ]
    },
    {
     "name": "stderr",
     "output_type": "stream",
     "text": [
      "100%|██████████| 145111/145111 [1:31:00<00:00, 26.57it/s]\n"
     ]
    },
    {
     "name": "stdout",
     "output_type": "stream",
     "text": [
      "Execution time: 5464.490411520004 seconds\n",
      "Finished average_Zscore...\n",
      "Unexpected exception formatting exception. Falling back to standard exception\n"
     ]
    },
    {
     "name": "stderr",
     "output_type": "stream",
     "text": [
      "Traceback (most recent call last):\n",
      "  File \"/home/ibrahim/mambaforge-pypy3/envs/dockm8/lib/python3.10/site-packages/IPython/core/interactiveshell.py\", line 3508, in run_code\n",
      "    exec(code_obj, self.user_global_ns, self.user_ns)\n",
      "  File \"/tmp/ipykernel_983724/1857051794.py\", line 4, in <module>\n",
      "    poses_ranking(\n",
      "  File \"/home/ibrahim/Github/ECFT-VS-pipeline/ranking.py\", line 150, in poses_ranking\n",
      "  File \"/home/ibrahim/Github/ECFT-VS-pipeline/ranking.py\", line 150, in <listcomp>\n",
      "  File \"/home/ibrahim/mambaforge-pypy3/envs/dockm8/lib/python3.10/site-packages/pandas/io/parsers/readers.py\", line 912, in read_csv\n",
      "    return _read(filepath_or_buffer, kwds)\n",
      "  File \"/home/ibrahim/mambaforge-pypy3/envs/dockm8/lib/python3.10/site-packages/pandas/io/parsers/readers.py\", line 577, in _read\n",
      "    parser = TextFileReader(filepath_or_buffer, **kwds)\n",
      "  File \"/home/ibrahim/mambaforge-pypy3/envs/dockm8/lib/python3.10/site-packages/pandas/io/parsers/readers.py\", line 1407, in __init__\n",
      "    self._engine = self._make_engine(f, self.engine)\n",
      "  File \"/home/ibrahim/mambaforge-pypy3/envs/dockm8/lib/python3.10/site-packages/pandas/io/parsers/readers.py\", line 1661, in _make_engine\n",
      "    self.handles = get_handle(\n",
      "  File \"/home/ibrahim/mambaforge-pypy3/envs/dockm8/lib/python3.10/site-packages/pandas/io/common.py\", line 859, in get_handle\n",
      "    handle = open(\n",
      "FileNotFoundError: [Errno 2] No such file or directory: '/home/ibrahim/Github/ECFT-VS-pipeline/data/results/correlations/best_ECR_concat.csv'\n",
      "\n",
      "During handling of the above exception, another exception occurred:\n",
      "\n",
      "Traceback (most recent call last):\n",
      "  File \"/home/ibrahim/mambaforge-pypy3/envs/dockm8/lib/python3.10/site-packages/IPython/core/interactiveshell.py\", line 2105, in showtraceback\n",
      "    stb = self.InteractiveTB.structured_traceback(\n",
      "  File \"/home/ibrahim/mambaforge-pypy3/envs/dockm8/lib/python3.10/site-packages/IPython/core/ultratb.py\", line 1428, in structured_traceback\n",
      "    return FormattedTB.structured_traceback(\n",
      "  File \"/home/ibrahim/mambaforge-pypy3/envs/dockm8/lib/python3.10/site-packages/IPython/core/ultratb.py\", line 1319, in structured_traceback\n",
      "    return VerboseTB.structured_traceback(\n",
      "  File \"/home/ibrahim/mambaforge-pypy3/envs/dockm8/lib/python3.10/site-packages/IPython/core/ultratb.py\", line 1172, in structured_traceback\n",
      "    formatted_exception = self.format_exception_as_a_whole(etype, evalue, etb, number_of_lines_of_context,\n",
      "  File \"/home/ibrahim/mambaforge-pypy3/envs/dockm8/lib/python3.10/site-packages/IPython/core/ultratb.py\", line 1087, in format_exception_as_a_whole\n",
      "    frames.append(self.format_record(record))\n",
      "  File \"/home/ibrahim/mambaforge-pypy3/envs/dockm8/lib/python3.10/site-packages/IPython/core/ultratb.py\", line 969, in format_record\n",
      "    frame_info.lines, Colors, self.has_colors, lvals\n",
      "  File \"/home/ibrahim/mambaforge-pypy3/envs/dockm8/lib/python3.10/site-packages/IPython/core/ultratb.py\", line 792, in lines\n",
      "    return self._sd.lines\n",
      "  File \"/home/ibrahim/mambaforge-pypy3/envs/dockm8/lib/python3.10/site-packages/stack_data/utils.py\", line 144, in cached_property_wrapper\n",
      "    value = obj.__dict__[self.func.__name__] = self.func(obj)\n",
      "  File \"/home/ibrahim/mambaforge-pypy3/envs/dockm8/lib/python3.10/site-packages/stack_data/core.py\", line 734, in lines\n",
      "    pieces = self.included_pieces\n",
      "  File \"/home/ibrahim/mambaforge-pypy3/envs/dockm8/lib/python3.10/site-packages/stack_data/utils.py\", line 144, in cached_property_wrapper\n",
      "    value = obj.__dict__[self.func.__name__] = self.func(obj)\n",
      "  File \"/home/ibrahim/mambaforge-pypy3/envs/dockm8/lib/python3.10/site-packages/stack_data/core.py\", line 681, in included_pieces\n",
      "    pos = scope_pieces.index(self.executing_piece)\n",
      "  File \"/home/ibrahim/mambaforge-pypy3/envs/dockm8/lib/python3.10/site-packages/stack_data/utils.py\", line 144, in cached_property_wrapper\n",
      "    value = obj.__dict__[self.func.__name__] = self.func(obj)\n",
      "  File \"/home/ibrahim/mambaforge-pypy3/envs/dockm8/lib/python3.10/site-packages/stack_data/core.py\", line 660, in executing_piece\n",
      "    return only(\n",
      "  File \"/home/ibrahim/mambaforge-pypy3/envs/dockm8/lib/python3.10/site-packages/executing/executing.py\", line 190, in only\n",
      "    raise NotOneValueFound('Expected one value, found 0')\n",
      "executing.executing.NotOneValueFound: Expected one value, found 0\n"
     ]
    }
   ],
   "source": [
    "from ranking import *\n",
    "\n",
    "\n",
    "poses_ranking(\n",
    "    ranking_methods,\n",
    "    df_rescored,\n",
    "    OUTPUT,\n",
    "    df_scores,\n",
    ")\n"
   ]
  }
 ],
 "metadata": {
  "kernelspec": {
   "display_name": "dockm8",
   "language": "python",
   "name": "python3"
  },
  "language_info": {
   "codemirror_mode": {
    "name": "ipython",
    "version": 3
   },
   "file_extension": ".py",
   "mimetype": "text/x-python",
   "name": "python",
   "nbconvert_exporter": "python",
   "pygments_lexer": "ipython3",
   "version": "3.10.12"
  },
  "orig_nbformat": 4
 },
 "nbformat": 4,
 "nbformat_minor": 2
}
