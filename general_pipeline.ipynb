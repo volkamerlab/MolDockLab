{
 "cells": [
  {
   "cell_type": "markdown",
   "metadata": {},
   "source": [
    "# This pipeline is a fork of DockM8"
   ]
  },
  {
   "cell_type": "code",
   "execution_count": 1,
   "metadata": {},
   "outputs": [],
   "source": [
    "#Import required libraries and scripts\n",
    "from DockM8.docking_functions import *\n",
    "from DockM8.rescoring_functions import *\n",
    "from DockM8.consensus_methods import *\n",
    "# from DockM8.scripts.dogsitescorer import *\n",
    "# from DockM8.scripts.get_pocket import *\n",
    "from tqdm.autonotebook import tqdm"
   ]
  },
  {
   "cell_type": "code",
   "execution_count": 2,
   "metadata": {},
   "outputs": [],
   "source": [
    "protein_name  = 'chain_cd_noligand.pdb'\n",
    "ligand_library = 'ecft_scores_new_cleaned.sdf'\n",
    "reference_ligand = 'protein_protoss_noligand_pocket.pdb'\n",
    "snapshot_IDs = ['p9', 'p11']"
   ]
  },
  {
   "cell_type": "code",
   "execution_count": 3,
   "metadata": {},
   "outputs": [],
   "source": [
    "HERE = Path(_dh[-1])\n",
    "DATA = (HERE / \"data\")\n",
    "\n",
    "# Move input data (protein pdb, docking library and reference ligand) to data directory\n",
    "software = (HERE / \"software\")\n",
    "protein_file = (DATA  / protein_name)\n",
    "ligand_library = (DATA / ligand_library)\n",
    "ref_file = (DATA / reference_ligand)\n",
    "\n",
    "\n",
    "OUTPUT = DATA / \"results\"\n"
   ]
  },
  {
   "cell_type": "markdown",
   "metadata": {},
   "source": [
    "### Move snapshots to another different folders"
   ]
  },
  {
   "cell_type": "markdown",
   "metadata": {},
   "source": [
    "### Load Ground truth data with 2D compounds ['ID', '2D structure', 'Activity score']"
   ]
  },
  {
   "cell_type": "markdown",
   "metadata": {},
   "source": [
    "# Data-preprocessing"
   ]
  },
  {
   "cell_type": "markdown",
   "metadata": {},
   "source": [
    "### Protein is prepared by [Protoss](https://proteins.plus/)"
   ]
  },
  {
   "cell_type": "markdown",
   "metadata": {},
   "source": [
    "### Ligand library preparation by Gypsum-DL for 3D conformers generation"
   ]
  },
  {
   "cell_type": "code",
   "execution_count": 4,
   "metadata": {},
   "outputs": [
    {
     "name": "stdout",
     "output_type": "stream",
     "text": [
      "Molecules are already prepared\n"
     ]
    }
   ],
   "source": [
    "from data_preparation import run_gypsumdl\n",
    "\n",
    "\n",
    "prepared_library_path = OUTPUT / f\"{ligand_library.stem}_prepared.sdf\"\n",
    "run_gypsumdl(ligand_library, prepared_library_path)\n"
   ]
  },
  {
   "cell_type": "code",
   "execution_count": 5,
   "metadata": {},
   "outputs": [
    {
     "data": {
      "text/html": [
       "<div>\n",
       "<style scoped>\n",
       "    .dataframe tbody tr th:only-of-type {\n",
       "        vertical-align: middle;\n",
       "    }\n",
       "\n",
       "    .dataframe tbody tr th {\n",
       "        vertical-align: top;\n",
       "    }\n",
       "\n",
       "    .dataframe thead th {\n",
       "        text-align: right;\n",
       "    }\n",
       "</style>\n",
       "<table border=\"1\" class=\"dataframe\">\n",
       "  <thead>\n",
       "    <tr style=\"text-align: right;\">\n",
       "      <th></th>\n",
       "      <th>ID</th>\n",
       "      <th>ROMol</th>\n",
       "    </tr>\n",
       "  </thead>\n",
       "  <tbody>\n",
       "    <tr>\n",
       "      <th>0</th>\n",
       "      <td>HIPS6128</td>\n",
       "      <td>&lt;rdkit.Chem.rdchem.Mol object at 0x7fea69651000&gt;</td>\n",
       "    </tr>\n",
       "    <tr>\n",
       "      <th>1</th>\n",
       "      <td>HIPS449</td>\n",
       "      <td>&lt;rdkit.Chem.rdchem.Mol object at 0x7fea69651070&gt;</td>\n",
       "    </tr>\n",
       "    <tr>\n",
       "      <th>2</th>\n",
       "      <td>HIPS6989</td>\n",
       "      <td>&lt;rdkit.Chem.rdchem.Mol object at 0x7fea696510e0&gt;</td>\n",
       "    </tr>\n",
       "    <tr>\n",
       "      <th>3</th>\n",
       "      <td>HIPS7002</td>\n",
       "      <td>&lt;rdkit.Chem.rdchem.Mol object at 0x7fea69651150&gt;</td>\n",
       "    </tr>\n",
       "    <tr>\n",
       "      <th>4</th>\n",
       "      <td>HIPS7000</td>\n",
       "      <td>&lt;rdkit.Chem.rdchem.Mol object at 0x7fea696511c0&gt;</td>\n",
       "    </tr>\n",
       "  </tbody>\n",
       "</table>\n",
       "</div>"
      ],
      "text/plain": [
       "         ID                                             ROMol\n",
       "0  HIPS6128  <rdkit.Chem.rdchem.Mol object at 0x7fea69651000>\n",
       "1   HIPS449  <rdkit.Chem.rdchem.Mol object at 0x7fea69651070>\n",
       "2  HIPS6989  <rdkit.Chem.rdchem.Mol object at 0x7fea696510e0>\n",
       "3  HIPS7002  <rdkit.Chem.rdchem.Mol object at 0x7fea69651150>\n",
       "4  HIPS7000  <rdkit.Chem.rdchem.Mol object at 0x7fea696511c0>"
      ]
     },
     "execution_count": 5,
     "metadata": {},
     "output_type": "execute_result"
    }
   ],
   "source": [
    "df_prepared = PandasTools.LoadSDF(str(prepared_library_path))\n",
    "df_prepared.head(5)"
   ]
  },
  {
   "cell_type": "code",
   "execution_count": 6,
   "metadata": {},
   "outputs": [],
   "source": [
    "docking_programs = [\n",
    "                # 'GNINA', \n",
    "                # 'SMINA',\n",
    "                # 'local_diffdock', \n",
    "                # 'PLANTS', \n",
    "                'flexx',\n",
    "                ]\n",
    "\n",
    "\n",
    "consensus_methods = []\n",
    "n_poses = 10\n",
    "exhaustiveness = 8"
   ]
  },
  {
   "cell_type": "markdown",
   "metadata": {},
   "source": [
    "# Docking"
   ]
  },
  {
   "cell_type": "markdown",
   "metadata": {},
   "source": [
    "1. Local DiffDock\n",
    "2. PLANTS (Implemented by DockM8)\n",
    "3. SMINA (Implemented by DockM8)\n",
    "4. GNINA (Implemented by DockM8)\n",
    "5. FlexX\n",
    "\n",
    "NOTE : Output of docking step should have at least two columns \n",
    " 1. **ID** : Name of the compound , name of docking tool and number of pose e.g. (compoundX_diffdock_01)\n",
    " 2. **Molecule** : Poses of every docking tool"
   ]
  },
  {
   "cell_type": "code",
   "execution_count": 7,
   "metadata": {},
   "outputs": [
    {
     "name": "stdout",
     "output_type": "stream",
     "text": [
      "Extracting ligand coordinates supports either SDF files or PDB files...\n",
      "Reference ligand is already in SDF format\n",
      "/home/ibrahim/Github/general_pipeline/data/results/flexx/flexx_poses.sdf\n",
      "Compounds are already docked with FlexX v 6.0\n"
     ]
    },
    {
     "name": "stdout",
     "output_type": "stream",
     "text": [
      "Compounds are already docked and concatenated, CHECK /home/ibrahim/Github/general_pipeline/data/results/flexx/flexx_poses.sdf\n"
     ]
    },
    {
     "data": {
      "text/html": [
       "<div>\n",
       "<style scoped>\n",
       "    .dataframe tbody tr th:only-of-type {\n",
       "        vertical-align: middle;\n",
       "    }\n",
       "\n",
       "    .dataframe tbody tr th {\n",
       "        vertical-align: top;\n",
       "    }\n",
       "\n",
       "    .dataframe thead th {\n",
       "        text-align: right;\n",
       "    }\n",
       "</style>\n",
       "<table border=\"1\" class=\"dataframe\">\n",
       "  <thead>\n",
       "    <tr style=\"text-align: right;\">\n",
       "      <th></th>\n",
       "      <th>ID</th>\n",
       "      <th>Molecule</th>\n",
       "    </tr>\n",
       "  </thead>\n",
       "  <tbody>\n",
       "    <tr>\n",
       "      <th>0</th>\n",
       "      <td>HIPS6128_01</td>\n",
       "      <td>&lt;rdkit.Chem.rdchem.Mol object at 0x7fea6918e730&gt;</td>\n",
       "    </tr>\n",
       "    <tr>\n",
       "      <th>1</th>\n",
       "      <td>HIPS6128_02</td>\n",
       "      <td>&lt;rdkit.Chem.rdchem.Mol object at 0x7fea6918d2a0&gt;</td>\n",
       "    </tr>\n",
       "    <tr>\n",
       "      <th>2</th>\n",
       "      <td>HIPS6128_03</td>\n",
       "      <td>&lt;rdkit.Chem.rdchem.Mol object at 0x7fea6918d5b0&gt;</td>\n",
       "    </tr>\n",
       "    <tr>\n",
       "      <th>3</th>\n",
       "      <td>HIPS6128_04</td>\n",
       "      <td>&lt;rdkit.Chem.rdchem.Mol object at 0x7fea690a33e0&gt;</td>\n",
       "    </tr>\n",
       "    <tr>\n",
       "      <th>4</th>\n",
       "      <td>HIPS6128_05</td>\n",
       "      <td>&lt;rdkit.Chem.rdchem.Mol object at 0x7fea690a3450&gt;</td>\n",
       "    </tr>\n",
       "    <tr>\n",
       "      <th>...</th>\n",
       "      <td>...</td>\n",
       "      <td>...</td>\n",
       "    </tr>\n",
       "    <tr>\n",
       "      <th>2094</th>\n",
       "      <td>HIPS6787_06</td>\n",
       "      <td>&lt;rdkit.Chem.rdchem.Mol object at 0x7fea69118f90&gt;</td>\n",
       "    </tr>\n",
       "    <tr>\n",
       "      <th>2095</th>\n",
       "      <td>HIPS6787_07</td>\n",
       "      <td>&lt;rdkit.Chem.rdchem.Mol object at 0x7fea69119000&gt;</td>\n",
       "    </tr>\n",
       "    <tr>\n",
       "      <th>2096</th>\n",
       "      <td>HIPS6787_08</td>\n",
       "      <td>&lt;rdkit.Chem.rdchem.Mol object at 0x7fea69119070&gt;</td>\n",
       "    </tr>\n",
       "    <tr>\n",
       "      <th>2097</th>\n",
       "      <td>HIPS6787_09</td>\n",
       "      <td>&lt;rdkit.Chem.rdchem.Mol object at 0x7fea691190e0&gt;</td>\n",
       "    </tr>\n",
       "    <tr>\n",
       "      <th>2098</th>\n",
       "      <td>HIPS6787_10</td>\n",
       "      <td>&lt;rdkit.Chem.rdchem.Mol object at 0x7fea69119150&gt;</td>\n",
       "    </tr>\n",
       "  </tbody>\n",
       "</table>\n",
       "<p>2099 rows × 2 columns</p>\n",
       "</div>"
      ],
      "text/plain": [
       "               ID                                          Molecule\n",
       "0     HIPS6128_01  <rdkit.Chem.rdchem.Mol object at 0x7fea6918e730>\n",
       "1     HIPS6128_02  <rdkit.Chem.rdchem.Mol object at 0x7fea6918d2a0>\n",
       "2     HIPS6128_03  <rdkit.Chem.rdchem.Mol object at 0x7fea6918d5b0>\n",
       "3     HIPS6128_04  <rdkit.Chem.rdchem.Mol object at 0x7fea690a33e0>\n",
       "4     HIPS6128_05  <rdkit.Chem.rdchem.Mol object at 0x7fea690a3450>\n",
       "...           ...                                               ...\n",
       "2094  HIPS6787_06  <rdkit.Chem.rdchem.Mol object at 0x7fea69118f90>\n",
       "2095  HIPS6787_07  <rdkit.Chem.rdchem.Mol object at 0x7fea69119000>\n",
       "2096  HIPS6787_08  <rdkit.Chem.rdchem.Mol object at 0x7fea69119070>\n",
       "2097  HIPS6787_09  <rdkit.Chem.rdchem.Mol object at 0x7fea691190e0>\n",
       "2098  HIPS6787_10  <rdkit.Chem.rdchem.Mol object at 0x7fea69119150>\n",
       "\n",
       "[2099 rows x 2 columns]"
      ]
     },
     "metadata": {},
     "output_type": "display_data"
    }
   ],
   "source": [
    "from docking import docking\n",
    "docking(\n",
    "        docking_programs,\n",
    "        protein_file,\n",
    "        prepared_library_path,\n",
    "        ref_file,\n",
    "        exhaustiveness,\n",
    "        n_poses\n",
    "        )"
   ]
  },
  {
   "cell_type": "code",
   "execution_count": 13,
   "metadata": {},
   "outputs": [],
   "source": [
    "PandasTools.WriteSDF(df, str(sdf_output),idName='ID', molColName='ROMol', properties=list(df.columns), allNumeric=False)"
   ]
  },
  {
   "cell_type": "code",
   "execution_count": 11,
   "metadata": {},
   "outputs": [
    {
     "ename": "KeyError",
     "evalue": "\"None of [Index(['ID', 'ROMol'], dtype='object')] are in the [columns]\"",
     "output_type": "error",
     "traceback": [
      "\u001b[0;31m---------------------------------------------------------------------------\u001b[0m",
      "\u001b[0;31mKeyError\u001b[0m                                  Traceback (most recent call last)",
      "Cell \u001b[0;32mIn[11], line 3\u001b[0m\n\u001b[1;32m      1\u001b[0m sdf_output\u001b[39m=\u001b[39m\u001b[39m'\u001b[39m\u001b[39m/home/ibrahim/Github/general_pipeline/data/results/flexx/flexx_poses.sdf\u001b[39m\u001b[39m'\u001b[39m\n\u001b[0;32m----> 3\u001b[0m df \u001b[39m=\u001b[39m PandasTools\u001b[39m.\u001b[39;49mLoadSDF(\u001b[39mstr\u001b[39;49m(sdf_output))[[\u001b[39m'\u001b[39;49m\u001b[39mID\u001b[39;49m\u001b[39m'\u001b[39;49m, \u001b[39m'\u001b[39;49m\u001b[39mROMol\u001b[39;49m\u001b[39m'\u001b[39;49m]]\n\u001b[1;32m      4\u001b[0m display(df)\n\u001b[1;32m      5\u001b[0m df[\u001b[39m'\u001b[39m\u001b[39mID\u001b[39m\u001b[39m'\u001b[39m] \u001b[39m=\u001b[39m df[\u001b[39m'\u001b[39m\u001b[39mID\u001b[39m\u001b[39m'\u001b[39m]\u001b[39m.\u001b[39mstr\u001b[39m.\u001b[39msplit(\u001b[39m'\u001b[39m\u001b[39m_\u001b[39m\u001b[39m'\u001b[39m)\u001b[39m.\u001b[39mstr[\u001b[39m0\u001b[39m] \u001b[39m+\u001b[39m \u001b[39m'\u001b[39m\u001b[39m_flexx_\u001b[39m\u001b[39m'\u001b[39m \u001b[39m+\u001b[39m df[\u001b[39m'\u001b[39m\u001b[39mID\u001b[39m\u001b[39m'\u001b[39m]\u001b[39m.\u001b[39mstr\u001b[39m.\u001b[39msplit(\u001b[39m'\u001b[39m\u001b[39m_\u001b[39m\u001b[39m'\u001b[39m)\u001b[39m.\u001b[39mstr[\u001b[39m1\u001b[39m]\n",
      "File \u001b[0;32m~/mambaforge-pypy3/envs/dockm8/lib/python3.10/site-packages/pandas/core/frame.py:3767\u001b[0m, in \u001b[0;36mDataFrame.__getitem__\u001b[0;34m(self, key)\u001b[0m\n\u001b[1;32m   3765\u001b[0m     \u001b[39mif\u001b[39;00m is_iterator(key):\n\u001b[1;32m   3766\u001b[0m         key \u001b[39m=\u001b[39m \u001b[39mlist\u001b[39m(key)\n\u001b[0;32m-> 3767\u001b[0m     indexer \u001b[39m=\u001b[39m \u001b[39mself\u001b[39;49m\u001b[39m.\u001b[39;49mcolumns\u001b[39m.\u001b[39;49m_get_indexer_strict(key, \u001b[39m\"\u001b[39;49m\u001b[39mcolumns\u001b[39;49m\u001b[39m\"\u001b[39;49m)[\u001b[39m1\u001b[39m]\n\u001b[1;32m   3769\u001b[0m \u001b[39m# take() does not accept boolean indexers\u001b[39;00m\n\u001b[1;32m   3770\u001b[0m \u001b[39mif\u001b[39;00m \u001b[39mgetattr\u001b[39m(indexer, \u001b[39m\"\u001b[39m\u001b[39mdtype\u001b[39m\u001b[39m\"\u001b[39m, \u001b[39mNone\u001b[39;00m) \u001b[39m==\u001b[39m \u001b[39mbool\u001b[39m:\n",
      "File \u001b[0;32m~/mambaforge-pypy3/envs/dockm8/lib/python3.10/site-packages/pandas/core/indexes/base.py:5876\u001b[0m, in \u001b[0;36mIndex._get_indexer_strict\u001b[0;34m(self, key, axis_name)\u001b[0m\n\u001b[1;32m   5873\u001b[0m \u001b[39melse\u001b[39;00m:\n\u001b[1;32m   5874\u001b[0m     keyarr, indexer, new_indexer \u001b[39m=\u001b[39m \u001b[39mself\u001b[39m\u001b[39m.\u001b[39m_reindex_non_unique(keyarr)\n\u001b[0;32m-> 5876\u001b[0m \u001b[39mself\u001b[39;49m\u001b[39m.\u001b[39;49m_raise_if_missing(keyarr, indexer, axis_name)\n\u001b[1;32m   5878\u001b[0m keyarr \u001b[39m=\u001b[39m \u001b[39mself\u001b[39m\u001b[39m.\u001b[39mtake(indexer)\n\u001b[1;32m   5879\u001b[0m \u001b[39mif\u001b[39;00m \u001b[39misinstance\u001b[39m(key, Index):\n\u001b[1;32m   5880\u001b[0m     \u001b[39m# GH 42790 - Preserve name from an Index\u001b[39;00m\n",
      "File \u001b[0;32m~/mambaforge-pypy3/envs/dockm8/lib/python3.10/site-packages/pandas/core/indexes/base.py:5935\u001b[0m, in \u001b[0;36mIndex._raise_if_missing\u001b[0;34m(self, key, indexer, axis_name)\u001b[0m\n\u001b[1;32m   5933\u001b[0m     \u001b[39mif\u001b[39;00m use_interval_msg:\n\u001b[1;32m   5934\u001b[0m         key \u001b[39m=\u001b[39m \u001b[39mlist\u001b[39m(key)\n\u001b[0;32m-> 5935\u001b[0m     \u001b[39mraise\u001b[39;00m \u001b[39mKeyError\u001b[39;00m(\u001b[39mf\u001b[39m\u001b[39m\"\u001b[39m\u001b[39mNone of [\u001b[39m\u001b[39m{\u001b[39;00mkey\u001b[39m}\u001b[39;00m\u001b[39m] are in the [\u001b[39m\u001b[39m{\u001b[39;00maxis_name\u001b[39m}\u001b[39;00m\u001b[39m]\u001b[39m\u001b[39m\"\u001b[39m)\n\u001b[1;32m   5937\u001b[0m not_found \u001b[39m=\u001b[39m \u001b[39mlist\u001b[39m(ensure_index(key)[missing_mask\u001b[39m.\u001b[39mnonzero()[\u001b[39m0\u001b[39m]]\u001b[39m.\u001b[39munique())\n\u001b[1;32m   5938\u001b[0m \u001b[39mraise\u001b[39;00m \u001b[39mKeyError\u001b[39;00m(\u001b[39mf\u001b[39m\u001b[39m\"\u001b[39m\u001b[39m{\u001b[39;00mnot_found\u001b[39m}\u001b[39;00m\u001b[39m not in index\u001b[39m\u001b[39m\"\u001b[39m)\n",
      "\u001b[0;31mKeyError\u001b[0m: \"None of [Index(['ID', 'ROMol'], dtype='object')] are in the [columns]\""
     ]
    }
   ],
   "source": [
    "sdf_output='/home/ibrahim/Github/general_pipeline/data/results/flexx/flexx_poses.sdf'\n",
    "\n",
    "df = PandasTools.LoadSDF(str(sdf_output))[['ID', 'ROMol']]\n",
    "display(df)\n",
    "if df['ID'].str.split('_').str.len().max() == 2:\n",
    "    print('ID format is incorrect, fixing it ...')\n",
    "    df['ID'] = df['ID'].str.split('_').str[0] + '_flexx_' + df['ID'].str.split('_').str[1]\n",
    "    PandasTools.WriteSDF(df, str(sdf_output),idName='ID', molColName='ROMol', properties=list(df.columns), allNumeric=False)\n",
    "else:\n",
    "    print('ID format is correct')\n"
   ]
  },
  {
   "cell_type": "code",
   "execution_count": null,
   "metadata": {},
   "outputs": [
    {
     "ename": "RuntimeError",
     "evalue": "No sub-structure match found between the reference and probe mol",
     "output_type": "error",
     "traceback": [
      "\u001b[0;31m---------------------------------------------------------------------------\u001b[0m",
      "\u001b[0;31mRuntimeError\u001b[0m                              Traceback (most recent call last)",
      "Cell \u001b[0;32mIn[8], line 15\u001b[0m\n\u001b[1;32m     13\u001b[0m     \u001b[39m# Load molecule with multiple conformers (example: SDF file)\u001b[39;00m\n\u001b[1;32m     14\u001b[0m supplier \u001b[39m=\u001b[39m Chem\u001b[39m.\u001b[39mSDMolSupplier(\u001b[39mstr\u001b[39m(OUTPUT \u001b[39m/\u001b[39m \u001b[39m'\u001b[39m\u001b[39mlocal_diffdock\u001b[39m\u001b[39m'\u001b[39m\u001b[39m/\u001b[39m \u001b[39m'\u001b[39m\u001b[39mlocal_diffdock_poses.sdf\u001b[39m\u001b[39m'\u001b[39m))\n\u001b[0;32m---> 15\u001b[0m rmsd_matrix \u001b[39m=\u001b[39m calculate_rmsd_matrix(supplier)\n\u001b[1;32m     16\u001b[0m display(rmsd_matrix)\n",
      "Cell \u001b[0;32mIn[8], line 7\u001b[0m, in \u001b[0;36mcalculate_rmsd_matrix\u001b[0;34m(mol)\u001b[0m\n\u001b[1;32m      5\u001b[0m \u001b[39mfor\u001b[39;00m i \u001b[39min\u001b[39;00m \u001b[39mrange\u001b[39m(\u001b[39mlen\u001b[39m(supplier)):\n\u001b[1;32m      6\u001b[0m     \u001b[39mfor\u001b[39;00m j \u001b[39min\u001b[39;00m \u001b[39mrange\u001b[39m(\u001b[39mlen\u001b[39m(supplier)):\n\u001b[0;32m----> 7\u001b[0m         rmsd_value \u001b[39m=\u001b[39m AllChem\u001b[39m.\u001b[39;49mGetBestRMS(mol[i], mol[j])\n\u001b[1;32m      8\u001b[0m         rmsd_matrix[i][j] \u001b[39m=\u001b[39m \u001b[39mround\u001b[39m(rmsd_value, \u001b[39m2\u001b[39m)\n\u001b[1;32m      9\u001b[0m         rmsd_matrix[j][i] \u001b[39m=\u001b[39m \u001b[39mround\u001b[39m(rmsd_value, \u001b[39m2\u001b[39m)\n",
      "\u001b[0;31mRuntimeError\u001b[0m: No sub-structure match found between the reference and probe mol"
     ]
    }
   ],
   "source": [
    "def calculate_rmsd_matrix(mol):\n",
    "    \"\"\"Calculate an RMSD matrix for the conformers in a molecule.\"\"\"\n",
    "    rmsd_matrix = np.zeros((10, 10))\n",
    "\n",
    "    for i in range(len(supplier)):\n",
    "        for j in range(len(supplier)):\n",
    "            rmsd_value = AllChem.GetBestRMS(mol[i], mol[j])\n",
    "            rmsd_matrix[i][j] = round(rmsd_value, 2)\n",
    "            rmsd_matrix[j][i] = round(rmsd_value, 2)\n",
    "    \n",
    "    return rmsd_matrix\n",
    "\n",
    "    # Load molecule with multiple conformers (example: SDF file)\n",
    "supplier = Chem.SDMolSupplier(str(OUTPUT / 'local_diffdock'/ 'local_diffdock_poses.sdf'))\n",
    "rmsd_matrix = calculate_rmsd_matrix(supplier)\n",
    "display(rmsd_matrix)"
   ]
  },
  {
   "cell_type": "code",
   "execution_count": null,
   "metadata": {},
   "outputs": [],
   "source": [
    "@ TODO : Rescore poses with all rescoring functions"
   ]
  },
  {
   "cell_type": "markdown",
   "metadata": {},
   "source": [
    "# Rescoring"
   ]
  },
  {
   "cell_type": "markdown",
   "metadata": {},
   "source": [
    "### Choose wanted scoring function from the next list"
   ]
  },
  {
   "cell_type": "code",
   "execution_count": null,
   "metadata": {},
   "outputs": [],
   "source": [
    "rescoring = [\n",
    "    'gnina', \n",
    "    'AD4',  \n",
    "    'LinF9', \n",
    "    'RTMScore', \n",
    "    'vinardo', \n",
    "    'SCORCH',\n",
    "        \n",
    "    'CHEMPLP', \n",
    "    'rfscorevs_V1',\n",
    "    'rfscorevs_V2',\n",
    "    'rfscorevs_V3', \n",
    "    'vina_hydrophobic', \n",
    "    'vina_intra_hydrophobic'\n",
    "    ]\n"
   ]
  },
  {
   "cell_type": "markdown",
   "metadata": {},
   "source": [
    "### Run Rescoring"
   ]
  },
  {
   "cell_type": "markdown",
   "metadata": {},
   "source": [
    "# Consensus ranking methods (Implemented by DockM8)\n",
    "### You can also choose the ranking methods according to you preference"
   ]
  },
  {
   "cell_type": "markdown",
   "metadata": {},
   "source": [
    "### Run Ranking methods"
   ]
  }
 ],
 "metadata": {
  "kernelspec": {
   "display_name": "dockm8",
   "language": "python",
   "name": "python3"
  },
  "language_info": {
   "codemirror_mode": {
    "name": "ipython",
    "version": 3
   },
   "file_extension": ".py",
   "mimetype": "text/x-python",
   "name": "python",
   "nbconvert_exporter": "python",
   "pygments_lexer": "ipython3",
   "version": "3.10.12"
  },
  "orig_nbformat": 4
 },
 "nbformat": 4,
 "nbformat_minor": 2
}
