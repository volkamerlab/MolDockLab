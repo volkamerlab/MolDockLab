{
 "cells": [
  {
   "cell_type": "markdown",
   "metadata": {},
   "source": [
    "# Import Libraries and define directories"
   ]
  },
  {
   "cell_type": "code",
   "execution_count": 48,
   "metadata": {},
   "outputs": [],
   "source": [
    "import pandas as pd\n",
    "import matplotlib.pyplot as plt\n",
    "import seaborn as sns\n",
    "import numpy as np\n",
    "import matplotlib.pyplot as plt\n",
    "import ast\n",
    "from pathlib import Path\n",
    "\n",
    "from scipy.stats import spearmanr\n",
    "from tqdm.autonotebook import tqdm\n",
    "from src.data_preparation import run_gypsumdl\n",
    "from IPython.display import display, Image\n",
    "from sklearn.model_selection import train_test_split\n",
    "from src.docking import *\n",
    "from src.utilities import get_selected_workflow\n",
    "from src.rescoring import rescoring_function\n",
    "from src.preprocessing import merge_activity_values, hdbscan_scaffold_split, cv_split, norm_scores\n",
    "from src.pose_score_optimization import scores_preprocessing, score_pose_optimization, prepare_parameters, prediction, mapping_normalized_weights\n",
    "from src.interaction_analysis import (\n",
    "    split_sdf_path, \n",
    "    actives_extraction, \n",
    "    plipify_fp_interaction, \n",
    "    indiviudal_interaction_fp_generator, \n",
    "    read_interactions_json, \n",
    "    interactions_aggregation\n",
    ")\n",
    "\n",
    "from src.ranking import enrichment_factor_calc\n",
    "import matplotlib.pyplot as plt\n",
    "\n",
    "from pathlib import Path"
   ]
  },
  {
   "cell_type": "code",
   "execution_count": 49,
   "metadata": {},
   "outputs": [],
   "source": [
    "protein_name  = 'test_data/5UG9_noligand_protoss.pdb'\n",
    "ligand_library = 'test_data/test_three_cpds.sdf'\n",
    "reference_ligand = 'test_data/ref_ligand.pdb'"
   ]
  },
  {
   "cell_type": "code",
   "execution_count": 50,
   "metadata": {},
   "outputs": [],
   "source": [
    "HERE = Path(_dh[-1])\n",
    "software = (HERE / \"software\")\n",
    "protein_path = (HERE  / protein_name)\n",
    "known_ligand_library = (HERE / ligand_library)\n",
    "ref_file = (HERE /  reference_ligand)\n",
    "\n",
    "\n",
    "OUTPUT = HERE / \"output\"\n",
    "OUTPUT.mkdir(exist_ok=True)"
   ]
  },
  {
   "cell_type": "markdown",
   "metadata": {},
   "source": [
    "# MolDockLab Workflow"
   ]
  },
  {
   "cell_type": "markdown",
   "metadata": {},
   "source": [
    "## Prepare ligands library"
   ]
  },
  {
   "cell_type": "code",
   "execution_count": 4,
   "metadata": {},
   "outputs": [
    {
     "name": "stdout",
     "output_type": "stream",
     "text": [
      "Molecules are already prepared by Gypsum-DL\n"
     ]
    }
   ],
   "source": [
    "output_prepared_mols = HERE / f\"{known_ligand_library.stem}_prepared.sdf\"\n",
    "run_gypsumdl(\n",
    "    ligand_library=known_ligand_library, \n",
    "    prepared_library_path=output_prepared_mols, \n",
    "    id_column=\"chembl_id\"\n",
    "    )"
   ]
  },
  {
   "cell_type": "markdown",
   "metadata": {},
   "source": [
    "## Consensus Docking"
   ]
  },
  {
   "cell_type": "code",
   "execution_count": 7,
   "metadata": {},
   "outputs": [],
   "source": [
    "docking_programs = [\n",
    "                'GNINA', \n",
    "                'SMINA',\n",
    "                'diffdock', \n",
    "                'PLANTS', \n",
    "                # 'flexx',\n",
    "                ]\n",
    "\n",
    "n_poses = 3\n",
    "exhaustiveness = 8"
   ]
  },
  {
   "cell_type": "code",
   "execution_count": 8,
   "metadata": {},
   "outputs": [
    {
     "name": "stdout",
     "output_type": "stream",
     "text": [
      "\n",
      "\n",
      "Docking with GNINA is running ...\n",
      "\n",
      "Compounds are already docked with GNINA v 1.0\n",
      "\n",
      "\n",
      "Docking with SMINA is running ...\n",
      "\n",
      "Compounds are already docked with SMINA\n",
      "\n",
      "\n",
      "Docking with DIFFDOCK is running ...\n",
      "\n",
      "Binding pocket is already extracted\n"
     ]
    },
    {
     "name": "stderr",
     "output_type": "stream",
     "text": [
      "DiffDock / Local DiffDock is running ...: 100%|██████████| 3/3 [00:00<00:00, 17236.87it/s]"
     ]
    },
    {
     "name": "stdout",
     "output_type": "stream",
     "text": [
      "Compound CHEMBL460721 is already docked with DiffDock\n",
      "Compound CHEMBL4858409 is already docked with DiffDock\n",
      "Compound CHEMBL3133894 is already docked with DiffDock\n",
      "ERROR: [Errno 20] Not a directory: '/home/hamza/github/MolDockLab/ECFT-VS-pipeline/output/diffdock/diffdock_poses.sdf'\n",
      "\n",
      "Compounds are already docked and concatenated, CHECK /home/hamza/github/MolDockLab/ECFT-VS-pipeline/output/diffdock/diffdock_poses.sdf\n",
      "\n",
      "\n",
      "Docking with PLANTS is running ...\n",
      "\n",
      "PLANTS preprocessing is running ...\n",
      "\t Converting to Mol2\n",
      "\t\t5UG9_noligand_protoss is already converted to MOL2 format\n",
      "\t\ttest_three_cpds_prepared is already converted to MOL2 format\n",
      "\t\tref_ligand is already converted to MOL2 format\n",
      "PLANTS bind mode is executed.\n",
      "Compounds are already docked with PLANTS\n",
      "\n",
      "\n",
      "Concatenating all poses in one SDF file ...\n",
      "\n",
      "Compounds are already docked and concatenated, CHECK /home/hamza/github/MolDockLab/ECFT-VS-pipeline/output/allposes.sdf\n"
     ]
    },
    {
     "name": "stderr",
     "output_type": "stream",
     "text": [
      "\n"
     ]
    }
   ],
   "source": [
    "from src.docking import docking\n",
    "\n",
    "docking(\n",
    "        docking_programs,\n",
    "        protein_path,\n",
    "        output_prepared_mols,\n",
    "        ref_file,\n",
    "        exhaustiveness,\n",
    "        n_poses,\n",
    "        OUTPUT,\n",
    "        local_diffdock=False\n",
    "        )"
   ]
  },
  {
   "cell_type": "markdown",
   "metadata": {},
   "source": [
    "### PoseBusters for quality checking"
   ]
  },
  {
   "cell_type": "code",
   "execution_count": 10,
   "metadata": {},
   "outputs": [
    {
     "name": "stdout",
     "output_type": "stream",
     "text": [
      "PoseBusters was executed\n"
     ]
    },
    {
     "data": {
      "text/html": [
       "<div>\n",
       "<style scoped>\n",
       "    .dataframe tbody tr th:only-of-type {\n",
       "        vertical-align: middle;\n",
       "    }\n",
       "\n",
       "    .dataframe tbody tr th {\n",
       "        vertical-align: top;\n",
       "    }\n",
       "\n",
       "    .dataframe thead th {\n",
       "        text-align: right;\n",
       "    }\n",
       "</style>\n",
       "<table border=\"1\" class=\"dataframe\">\n",
       "  <thead>\n",
       "    <tr style=\"text-align: right;\">\n",
       "      <th></th>\n",
       "      <th>docking_tool</th>\n",
       "      <th>internal_energy</th>\n",
       "      <th>minimum_distance_to_protein</th>\n",
       "      <th>volume_overlap_with_protein</th>\n",
       "      <th>Number of Docked Molecules</th>\n",
       "    </tr>\n",
       "  </thead>\n",
       "  <tbody>\n",
       "    <tr>\n",
       "      <th>0</th>\n",
       "      <td>diffdock</td>\n",
       "      <td>0</td>\n",
       "      <td>30</td>\n",
       "      <td>16</td>\n",
       "      <td>3</td>\n",
       "    </tr>\n",
       "    <tr>\n",
       "      <th>1</th>\n",
       "      <td>gnina</td>\n",
       "      <td>3</td>\n",
       "      <td>0</td>\n",
       "      <td>0</td>\n",
       "      <td>3</td>\n",
       "    </tr>\n",
       "    <tr>\n",
       "      <th>2</th>\n",
       "      <td>plants</td>\n",
       "      <td>0</td>\n",
       "      <td>1</td>\n",
       "      <td>0</td>\n",
       "      <td>3</td>\n",
       "    </tr>\n",
       "    <tr>\n",
       "      <th>3</th>\n",
       "      <td>smina</td>\n",
       "      <td>2</td>\n",
       "      <td>0</td>\n",
       "      <td>0</td>\n",
       "      <td>3</td>\n",
       "    </tr>\n",
       "  </tbody>\n",
       "</table>\n",
       "</div>"
      ],
      "text/plain": [
       "  docking_tool  internal_energy  minimum_distance_to_protein  \\\n",
       "0     diffdock                0                           30   \n",
       "1        gnina                3                            0   \n",
       "2       plants                0                            1   \n",
       "3        smina                2                            0   \n",
       "\n",
       "   volume_overlap_with_protein  Number of Docked Molecules  \n",
       "0                           16                           3  \n",
       "1                            0                           3  \n",
       "2                            0                           3  \n",
       "3                            0                           3  "
      ]
     },
     "execution_count": 10,
     "metadata": {},
     "output_type": "execute_result"
    }
   ],
   "source": [
    "protein_name = '5UG9_noligand_protoss'\n",
    "docking_tools_results = poses_checker(\n",
    "    poses_path= OUTPUT / 'allposes.sdf', \n",
    "    protein_path= protein_path, \n",
    "    output_file= OUTPUT / f'{protein_name}_posebusters_results.csv'\n",
    "    )\n",
    "docking_tools_results"
   ]
  },
  {
   "cell_type": "markdown",
   "metadata": {},
   "source": [
    "## Scoring Functions"
   ]
  },
  {
   "cell_type": "code",
   "execution_count": 13,
   "metadata": {},
   "outputs": [],
   "source": [
    "rescoring = [\n",
    "    'cnnscore', \n",
    "    'cnnaffinity',  \n",
    "    'smina_affinity',\n",
    "    # 'ad4',  \n",
    "    'linf9', \n",
    "    'rtmscore', \n",
    "    'vinardo', \n",
    "    # 'scorch',\n",
    "    # 'hyde', \n",
    "    'chemplp', \n",
    "    'rfscore_v1',\n",
    "    # 'rfscore_v2',\n",
    "    'rfscore_v3', \n",
    "    'vina_hydrophobic', \n",
    "    'vina_intra_hydrophobic'\n",
    "    ]"
   ]
  },
  {
   "cell_type": "code",
   "execution_count": 14,
   "metadata": {},
   "outputs": [
    {
     "name": "stdout",
     "output_type": "stream",
     "text": [
      "protein is already converted to mol2\n",
      "protein is already converted to mol2\n",
      "\n",
      "\n",
      "Now rescoring with CNNSCORE ... ⌛⌛ \n",
      "cnnscore is already excuted\n",
      "cnnscore is already read\n",
      "\n",
      "\n",
      "Now rescoring with CNNAFFINITY ... ⌛⌛ \n",
      "cnnaffinity is already excuted\n",
      "cnnaffinity is already read\n",
      "\n",
      "\n",
      "Now rescoring with SMINA_AFFINITY ... ⌛⌛ \n",
      "smina_affinity is already excuted\n",
      "smina_affinity is already read\n",
      "\n",
      "\n",
      "Now rescoring with LINF9 ... ⌛⌛ \n",
      "linf9 is already excuted\n",
      "linf9 is already read\n",
      "\n",
      "\n",
      "Now rescoring with RTMSCORE ... ⌛⌛ \n",
      "rtmscore is already excuted\n",
      "rtmscore is already read\n",
      "\n",
      "\n",
      "Now rescoring with VINARDO ... ⌛⌛ \n",
      "vinardo is already excuted\n",
      "vinardo is already read\n",
      "sdf_0.sdf is converted to mol2\n",
      "sdf_1.sdf is converted to mol2\n",
      "sdf_2.sdf is converted to mol2\n",
      "sdf_3.sdf is converted to mol2\n",
      "sdf_4.sdf is converted to mol2\n",
      "sdf_5.sdf is converted to mol2\n",
      "\n",
      "\n",
      "Now rescoring with CHEMPLP ... ⌛⌛ \n",
      "chemplp is already excuted\n",
      "chemplp is already read\n",
      "\n",
      "\n",
      "Now rescoring with RFSCORE_V1 ... ⌛⌛ \n",
      "rfscore_v1 is already excuted\n",
      "rfscore_v1 is already read\n",
      "\n",
      "\n",
      "Now rescoring with RFSCORE_V3 ... ⌛⌛ \n",
      "rfscore_v3 is already excuted\n",
      "rfscore_v3 is already read\n",
      "\n",
      "\n",
      "Now rescoring with VINA_HYDROPHOBIC ... ⌛⌛ \n",
      "vina_hydrophobic is already excuted\n",
      "vina_hydrophobic is already read\n",
      "\n",
      "\n",
      "Now rescoring with VINA_INTRA_HYDROPHOBIC ... ⌛⌛ \n",
      "vina_intra_hydrophobic is already excuted\n",
      "vina_intra_hydrophobic is already read\n",
      "\n",
      "\n",
      "Rescoring results are merged successfully 🎉🎉\n"
     ]
    }
   ],
   "source": [
    "docked_library_path = OUTPUT / f\"allposes.sdf\"\n",
    "\n",
    "rescoring_function(\n",
    "    rescoring,\n",
    "    protein_path,\n",
    "    docked_library_path,\n",
    "    ref_file,\n",
    "    ncpu=6,\n",
    ")"
   ]
  },
  {
   "cell_type": "markdown",
   "metadata": {},
   "source": [
    "### Scores Normalization"
   ]
  },
  {
   "cell_type": "markdown",
   "metadata": {},
   "source": [
    "#### Merging true value and splitting"
   ]
  },
  {
   "cell_type": "code",
   "execution_count": 17,
   "metadata": {},
   "outputs": [
    {
     "name": "stdout",
     "output_type": "stream",
     "text": [
      "Scores of {'rfscore_v3', 'smina_affinity', 'Vinardo'} were found to highly correlate. Therefore, they are removed.\n"
     ]
    }
   ],
   "source": [
    "df_rescored_merged = merge_activity_values(\n",
    "    norm_scored_path = OUTPUT / 'rescoring_results' / 'all_rescoring_results.csv', \n",
    "    mols_true_value_path = known_ligand_library,\n",
    "    true_value_col = 'true_value',\n",
    "    scored_id_col='ID',\n",
    "    activity_col='activity_class',\n",
    "    lower_better_true_value = False,\n",
    "    threshold=0.9\n",
    "    )"
   ]
  },
  {
   "cell_type": "markdown",
   "metadata": {},
   "source": [
    "## Scaffold split for versatility checking \n",
    "- It can be done for more data points"
   ]
  },
  {
   "cell_type": "code",
   "execution_count": 18,
   "metadata": {},
   "outputs": [],
   "source": [
    "# clustered_df = hdbscan_scaffold_split(ligand_library, min_cluster_size=2)\n",
    "# cv_split(clustered_df, df_rescored_merged, idx_col='ID', n_splits=2, output_path= DATA / 'data_splits', target_name='egfr')"
   ]
  },
  {
   "cell_type": "code",
   "execution_count": 19,
   "metadata": {},
   "outputs": [
    {
     "data": {
      "image/png": "[encoded data removed]",
      "text/plain": [
       "<Figure size 2000x900 with 1 Axes>"
      ]
     },
     "metadata": {},
     "output_type": "display_data"
    }
   ],
   "source": [
    "norm_scored_path = OUTPUT / 'all_rescoring_results_merged_norm_robust.csv'\n",
    "# df_rescored = pd.read_csv(str(OUTPUT / 'all_rescoring_results.csv'))\n",
    "\n",
    "df_rescored_norm = norm_scores(df_rescored_merged)\n",
    "\n",
    "plt.figure(figsize=(20, 9))\n",
    "sns.boxplot(data=df_rescored_norm.drop(columns=['activity_class', 'true_value']) ,linewidth=.85, showfliers=False)\n",
    "plt.ylim(-1, 1)\n",
    "plt.title('Box Plot of Normalized Predicted Scores of the Docking Poses')\n",
    "plt.xticks(rotation=45) \n",
    "plt.show()\n",
    "\n",
    "df_rescored_norm.to_csv(str(norm_scored_path), index=False)"
   ]
  },
  {
   "cell_type": "markdown",
   "metadata": {},
   "source": [
    "## Pose Score Optimization"
   ]
  },
  {
   "cell_type": "markdown",
   "metadata": {},
   "source": [
    "### Executing optimization function for different regularization"
   ]
  },
  {
   "cell_type": "code",
   "execution_count": 24,
   "metadata": {},
   "outputs": [
    {
     "name": "stderr",
     "output_type": "stream",
     "text": [
      "100%|██████████| 120/120 [00:00<00:00, 11650.31it/s]\n"
     ]
    },
    {
     "name": "stdout",
     "output_type": "stream",
     "text": [
      "Optimization with Regularization: 0.1\n"
     ]
    },
    {
     "name": "stderr",
     "output_type": "stream",
     "text": [
      "  0%|          | 0/500 [00:00<?, ?it/s]/home/hamza/github/MolDockLab/ECFT-VS-pipeline/src/pose_score_optimization.py:119: UserWarning: To copy construct from a tensor, it is recommended to use sourceTensor.clone().detach() or sourceTensor.clone().detach().requires_grad_(True), rather than torch.tensor(sourceTensor).\n",
      "  c = torch.tensor(x)\n",
      "100%|██████████| 500/500 [00:49<00:00, 10.08it/s]\n"
     ]
    },
    {
     "data": {
      "text/plain": [
       "{0.1: array([ 5.01024579e-01,  3.53690393e-02,  9.50235957e-01, -3.72487779e-03,\n",
       "         3.27468445e-01,  4.97510692e-01, -1.04484540e-01,  2.74286656e-01,\n",
       "         1.91093199e-07, -1.21512645e-06,  2.69821442e-05, -1.07849307e-07])}"
      ]
     },
     "execution_count": 24,
     "metadata": {},
     "output_type": "execute_result"
    }
   ],
   "source": [
    "regs = [0.1]\n",
    "X, y, docking_cost, scoring_cost, docking_tools, scoring_tools = scores_preprocessing(df_rescored_merged.drop(columns=['activity_class']))\n",
    "best_weights = score_pose_optimization(X, y, docking_cost, scoring_cost, weights_path = OUTPUT / 'best_weights.npy', alphas=regs, iter=500)\n",
    "best_weights"
   ]
  },
  {
   "cell_type": "markdown",
   "metadata": {},
   "source": [
    "### Check the correlation of each alpha with the true value"
   ]
  },
  {
   "cell_type": "code",
   "execution_count": 25,
   "metadata": {},
   "outputs": [
    {
     "name": "stdout",
     "output_type": "stream",
     "text": [
      "Using alpha 0.1 give a correlation of : 0.5\n"
     ]
    }
   ],
   "source": [
    "for alpha in best_weights.keys():\n",
    "    c_r, c_d = prepare_parameters(best_weights[alpha], X.shape[1])\n",
    "    preds = pd.DataFrame({'prediction': prediction(c_r, c_d, X), 'ground truth': y})\n",
    "    corr = preds.corr('spearman')['ground truth']['prediction']\n",
    "    # sns.lmplot(data=preds, x='prediction', y='ground truth')\n",
    "    print(f\"Using alpha {alpha} give a correlation of : {corr}\")"
   ]
  },
  {
   "cell_type": "markdown",
   "metadata": {},
   "source": [
    "### Mapping the normalized weights to docking tools and scoring functions"
   ]
  },
  {
   "cell_type": "code",
   "execution_count": 26,
   "metadata": {},
   "outputs": [
    {
     "name": "stdout",
     "output_type": "stream",
     "text": [
      "Using alpha 0.1 give normalized weights: \n",
      "{'diffdock': 0.04987077161790204, 'gnina': 0.0, 'plants': 1.0, 'smina': 0.03926894741184088, 'CNNscore': 0.5740943889966865, 'CNNaffinity': 0.1325977639087437, 'LinF9': 1.0, 'RTMScore': 0.09553209845107365, 'CHEMPLP': 0.40954261001615233, 'rfscore_v1': 0.5707628071831404, 'vina_hydrophobic': 0.0, 'vina_intra_hydrophobic': 0.3591199728081151}\n",
      "\n",
      "Using alpha 0.1 give selected tools: \n",
      " For Docking:['plants', 'CNNscore']\n",
      " For Rescoring:['LinF9', 'rfscore_v1']\n",
      "\n"
     ]
    }
   ],
   "source": [
    "selected_docking = {}\n",
    "selected_rescoring = {}\n",
    "for alpha in best_weights.keys():\n",
    "    normalized_weights = mapping_normalized_weights(best_weights[alpha], scoring_tools, docking_tools)\n",
    "    print(f\"Using alpha {alpha} give normalized weights: \\n{normalized_weights}\\n\")\n",
    "    #extract the tools that is above 0.5 in a list\n",
    "    selected_docking[alpha] = [key for key, value in list(normalized_weights.items())[:5] if value > 0.5]\n",
    "    selected_rescoring[alpha] = [key for key, value in list(normalized_weights.items())[6:] if value > 0.5]\n",
    "    print(f\"Using alpha {alpha} give selected tools: \\n For Docking:{selected_docking[alpha]}\\n For Rescoring:{selected_rescoring[alpha]}\\n\")"
   ]
  },
  {
   "cell_type": "code",
   "execution_count": 27,
   "metadata": {},
   "outputs": [],
   "source": [
    "ranking_methods = [\n",
    "                'best_ECR' ,\n",
    "                'ECR_average',\n",
    "                'average_ECR' ,\n",
    "                'rank_by_rank' ,\n",
    "                'rank_by_vote' ,\n",
    "                'rank_by_number',\n",
    "                'best_Zscore',\n",
    "                'average_Zscore',\n",
    "                'weighted_ECR'\n",
    "                ]"
   ]
  },
  {
   "cell_type": "code",
   "execution_count": 29,
   "metadata": {},
   "outputs": [
    {
     "name": "stdout",
     "output_type": "stream",
     "text": [
      "Number of docking programs: 4, ['diffdock', 'gnina', 'plants', 'smina']\n",
      "Number of rescoring methods: 8, ['CNNscore', 'CNNaffinity', 'LinF9', 'RTMScore', 'CHEMPLP', 'rfscore_v1', 'vina_hydrophobic', 'vina_intra_hydrophobic']\n",
      "Number of possible combinations for every ranking method: 3825\n",
      " With total combinations : 34425\n",
      "All poses are ranked with all consensus methods ..\n"
     ]
    }
   ],
   "source": [
    "from src.ranking import *\n",
    "poses_ranking(\n",
    "ranking_methods=ranking_methods,\n",
    "df_rescored=df_rescored_norm,\n",
    "output_path=OUTPUT,\n",
    "weights=normalized_weights,\n",
    ")"
   ]
  },
  {
   "cell_type": "markdown",
   "metadata": {},
   "source": [
    "### Visualize consensus SBVS workflow"
   ]
  },
  {
   "cell_type": "code",
   "execution_count": 30,
   "metadata": {},
   "outputs": [
    {
     "data": {
      "text/html": [
       "<div>\n",
       "<style scoped>\n",
       "    .dataframe tbody tr th:only-of-type {\n",
       "        vertical-align: middle;\n",
       "    }\n",
       "\n",
       "    .dataframe tbody tr th {\n",
       "        vertical-align: top;\n",
       "    }\n",
       "\n",
       "    .dataframe thead th {\n",
       "        text-align: right;\n",
       "    }\n",
       "</style>\n",
       "<table border=\"1\" class=\"dataframe\">\n",
       "  <thead>\n",
       "    <tr style=\"text-align: right;\">\n",
       "      <th></th>\n",
       "      <th>docking_tool</th>\n",
       "      <th>scoring_function</th>\n",
       "      <th>spearman_correlation</th>\n",
       "      <th>cost_per_pipeline</th>\n",
       "      <th>enrichment_factor</th>\n",
       "      <th>ranking_method</th>\n",
       "    </tr>\n",
       "  </thead>\n",
       "  <tbody>\n",
       "    <tr>\n",
       "      <th>0</th>\n",
       "      <td>['diffdock', 'gnina', 'plants']</td>\n",
       "      <td>['CHEMPLP']</td>\n",
       "      <td>1.0</td>\n",
       "      <td>521.33</td>\n",
       "      <td>0</td>\n",
       "      <td>method1_ECR_best</td>\n",
       "    </tr>\n",
       "    <tr>\n",
       "      <th>1</th>\n",
       "      <td>['gnina', 'plants', 'smina']</td>\n",
       "      <td>['CHEMPLP', 'LinF9']</td>\n",
       "      <td>1.0</td>\n",
       "      <td>216.13</td>\n",
       "      <td>0</td>\n",
       "      <td>method1_ECR_best</td>\n",
       "    </tr>\n",
       "    <tr>\n",
       "      <th>2</th>\n",
       "      <td>['plants', 'smina']</td>\n",
       "      <td>['CHEMPLP', 'LinF9']</td>\n",
       "      <td>1.0</td>\n",
       "      <td>110.33</td>\n",
       "      <td>0</td>\n",
       "      <td>method1_ECR_best</td>\n",
       "    </tr>\n",
       "    <tr>\n",
       "      <th>3</th>\n",
       "      <td>['gnina', 'plants']</td>\n",
       "      <td>['CHEMPLP', 'CNNscore']</td>\n",
       "      <td>1.0</td>\n",
       "      <td>116.93</td>\n",
       "      <td>0</td>\n",
       "      <td>method1_ECR_best</td>\n",
       "    </tr>\n",
       "    <tr>\n",
       "      <th>4</th>\n",
       "      <td>['gnina', 'plants']</td>\n",
       "      <td>['CHEMPLP', 'vina_intra_hydrophobic']</td>\n",
       "      <td>1.0</td>\n",
       "      <td>120.73</td>\n",
       "      <td>0</td>\n",
       "      <td>method1_ECR_best</td>\n",
       "    </tr>\n",
       "    <tr>\n",
       "      <th>5</th>\n",
       "      <td>['plants', 'smina']</td>\n",
       "      <td>['CHEMPLP', 'vina_hydrophobic']</td>\n",
       "      <td>1.0</td>\n",
       "      <td>114.83</td>\n",
       "      <td>0</td>\n",
       "      <td>method1_ECR_best</td>\n",
       "    </tr>\n",
       "    <tr>\n",
       "      <th>6</th>\n",
       "      <td>['diffdock', 'plants']</td>\n",
       "      <td>['CHEMPLP', 'RTMScore']</td>\n",
       "      <td>1.0</td>\n",
       "      <td>419.63</td>\n",
       "      <td>0</td>\n",
       "      <td>method1_ECR_best</td>\n",
       "    </tr>\n",
       "    <tr>\n",
       "      <th>7</th>\n",
       "      <td>['diffdock', 'plants']</td>\n",
       "      <td>['CHEMPLP', 'CNNscore', 'RTMScore']</td>\n",
       "      <td>1.0</td>\n",
       "      <td>422.73</td>\n",
       "      <td>0</td>\n",
       "      <td>method1_ECR_best</td>\n",
       "    </tr>\n",
       "    <tr>\n",
       "      <th>8</th>\n",
       "      <td>['diffdock', 'plants']</td>\n",
       "      <td>['CHEMPLP']</td>\n",
       "      <td>1.0</td>\n",
       "      <td>415.53</td>\n",
       "      <td>0</td>\n",
       "      <td>method6_Zscore_best</td>\n",
       "    </tr>\n",
       "    <tr>\n",
       "      <th>9</th>\n",
       "      <td>['diffdock', 'plants']</td>\n",
       "      <td>['CHEMPLP', 'LinF9']</td>\n",
       "      <td>1.0</td>\n",
       "      <td>417.93</td>\n",
       "      <td>0</td>\n",
       "      <td>method6_Zscore_best</td>\n",
       "    </tr>\n",
       "  </tbody>\n",
       "</table>\n",
       "</div>"
      ],
      "text/plain": [
       "                      docking_tool                       scoring_function  \\\n",
       "0  ['diffdock', 'gnina', 'plants']                            ['CHEMPLP']   \n",
       "1     ['gnina', 'plants', 'smina']                   ['CHEMPLP', 'LinF9']   \n",
       "2              ['plants', 'smina']                   ['CHEMPLP', 'LinF9']   \n",
       "3              ['gnina', 'plants']                ['CHEMPLP', 'CNNscore']   \n",
       "4              ['gnina', 'plants']  ['CHEMPLP', 'vina_intra_hydrophobic']   \n",
       "5              ['plants', 'smina']        ['CHEMPLP', 'vina_hydrophobic']   \n",
       "6           ['diffdock', 'plants']                ['CHEMPLP', 'RTMScore']   \n",
       "7           ['diffdock', 'plants']    ['CHEMPLP', 'CNNscore', 'RTMScore']   \n",
       "8           ['diffdock', 'plants']                            ['CHEMPLP']   \n",
       "9           ['diffdock', 'plants']                   ['CHEMPLP', 'LinF9']   \n",
       "\n",
       "   spearman_correlation  cost_per_pipeline  enrichment_factor  \\\n",
       "0                   1.0             521.33                  0   \n",
       "1                   1.0             216.13                  0   \n",
       "2                   1.0             110.33                  0   \n",
       "3                   1.0             116.93                  0   \n",
       "4                   1.0             120.73                  0   \n",
       "5                   1.0             114.83                  0   \n",
       "6                   1.0             419.63                  0   \n",
       "7                   1.0             422.73                  0   \n",
       "8                   1.0             415.53                  0   \n",
       "9                   1.0             417.93                  0   \n",
       "\n",
       "        ranking_method  \n",
       "0     method1_ECR_best  \n",
       "1     method1_ECR_best  \n",
       "2     method1_ECR_best  \n",
       "3     method1_ECR_best  \n",
       "4     method1_ECR_best  \n",
       "5     method1_ECR_best  \n",
       "6     method1_ECR_best  \n",
       "7     method1_ECR_best  \n",
       "8  method6_Zscore_best  \n",
       "9  method6_Zscore_best  "
      ]
     },
     "execution_count": 30,
     "metadata": {},
     "output_type": "execute_result"
    }
   ],
   "source": [
    "corr_df = pd.read_csv(OUTPUT / f'correlations_general/all_ranked.csv')\n",
    "corr_df.head(10)"
   ]
  },
  {
   "cell_type": "code",
   "execution_count": 31,
   "metadata": {},
   "outputs": [
    {
     "data": {
      "text/plain": [
       "docking_tool                     ['plants']\n",
       "scoring_function                ['CHEMPLP']\n",
       "spearman_correlation                    1.0\n",
       "cost_per_pipeline                      8.03\n",
       "enrichment_factor                         0\n",
       "ranking_method          method6_Zscore_best\n",
       "Name: 217, dtype: object"
      ]
     },
     "execution_count": 31,
     "metadata": {},
     "output_type": "execute_result"
    }
   ],
   "source": [
    "# select best balanced workflow by looking into a range of max 0.05 difference in spearman correlation and select the one with lowest enrichment factor and not less than 0.5 in enrichment_factor\n",
    "\n",
    "range_workflows = corr_df[(corr_df['spearman_correlation'] >= corr_df['spearman_correlation'].max() - 0.05) &\n",
    "                          (corr_df['enrichment_factor'] >= corr_df.loc[0, 'enrichment_factor'] - 0.5)]\n",
    "# select row with the minimum cost value\n",
    "range_workflows.loc[range_workflows['cost_per_pipeline'].idxmin()]"
   ]
  },
  {
   "cell_type": "markdown",
   "metadata": {},
   "source": [
    "# Deploying optimal balanced SBVS workflow\n",
    "- By default, workflows within 5% from highest spearman correlation and 0.5 enrichment factor with least runtime cost is selected"
   ]
  },
  {
   "cell_type": "code",
   "execution_count": 71,
   "metadata": {},
   "outputs": [
    {
     "name": "stdout",
     "output_type": "stream",
     "text": [
      "Docking tools: ['plants']\n",
      "Scoring tools: ['CHEMPLP']\n",
      "Ranking method: method6_Zscore_best\n"
     ]
    }
   ],
   "source": [
    "selected_workflows = corr_df[(corr_df['spearman_correlation'] >= corr_df['spearman_correlation'].max() - 0.05) &\n",
    "                          (corr_df['enrichment_factor'] >= corr_df.loc[0, 'enrichment_factor'] - 0.5)]\n",
    "# select row with the minimum cost value\n",
    "selected_workflow = range_workflows.loc[range_workflows['cost_per_pipeline'].idxmin()]\n",
    "\n",
    "selected_docking_tools = ast.literal_eval(selected_workflow['docking_tool'])\n",
    "selected_scoring_functions = ast.literal_eval(selected_workflow['scoring_function'])\n",
    "selected_ranking_method = selected_workflow['ranking_method']\n",
    "\n",
    "print(f\"Docking tools: {(selected_docking_tools)}\\nScoring tools: {selected_scoring_functions}\\nRanking method: {ranking_method}\")"
   ]
  },
  {
   "cell_type": "markdown",
   "metadata": {},
   "source": [
    "## Directory for larger Dataset"
   ]
  },
  {
   "cell_type": "code",
   "execution_count": 59,
   "metadata": {},
   "outputs": [],
   "source": [
    "larger_data_output = OUTPUT / \"larger_data_output\"\n",
    "larger_data_output.mkdir(exist_ok=True)"
   ]
  },
  {
   "cell_type": "markdown",
   "metadata": {},
   "source": [
    "## Ligands preparation"
   ]
  },
  {
   "cell_type": "code",
   "execution_count": 38,
   "metadata": {},
   "outputs": [
    {
     "name": "stdout",
     "output_type": "stream",
     "text": [
      "Molecules are already prepared by Gypsum-DL\n"
     ]
    }
   ],
   "source": [
    "sbvs_ligands_library = (HERE / 'test_data/test_library_10cpds.sdf')\n",
    "prepared_chembl_data_path = larger_data_output / f\"{sbvs_ligands_library.stem}_prepared.sdf\"\n",
    "run_gypsumdl(str(prepared_chembl_data_path), prepared_chembl_data_path)"
   ]
  },
  {
   "cell_type": "markdown",
   "metadata": {},
   "source": [
    "## Molecular Docking of selected tools"
   ]
  },
  {
   "cell_type": "code",
   "execution_count": 43,
   "metadata": {},
   "outputs": [
    {
     "name": "stdout",
     "output_type": "stream",
     "text": [
      "\n",
      "\n",
      "Docking with PLANTS is running ...\n",
      "\n",
      "PLANTS preprocessing is running ...\n",
      "\t Converting to Mol2\n",
      "\t\t5UG9_noligand_protoss is already converted to MOL2 format\n",
      "\t\tref_ligand is already converted to MOL2 format\n",
      "PLANTS bind mode is executed.\n",
      "Compounds are already docked with PLANTS\n",
      "\n",
      "\n",
      "Concatenating all poses in one SDF file ...\n",
      "\n",
      "Compounds are already docked and concatenated, CHECK /home/hamza/github/MolDockLab/ECFT-VS-pipeline/output/larger_data_output/allposes.sdf\n"
     ]
    }
   ],
   "source": [
    "docking(\n",
    "        docking_methods=selected_docking_tools,\n",
    "        protein_path=protein_path,\n",
    "        ligands_path=prepared_chembl_data_path,\n",
    "        ref_file=ref_file,\n",
    "        exhaustiveness=32,\n",
    "        n_poses=10,\n",
    "        OUTPUT=larger_data_output\n",
    "        )"
   ]
  },
  {
   "cell_type": "markdown",
   "metadata": {},
   "source": [
    "## Interaction hotspots detection using PLIPify"
   ]
  },
  {
   "cell_type": "code",
   "execution_count": 46,
   "metadata": {},
   "outputs": [
    {
     "name": "stdout",
     "output_type": "stream",
     "text": [
      "Number of active compounds: 10\n"
     ]
    },
    {
     "name": "stderr",
     "output_type": "stream",
     "text": [
      "SDF splitting: 100%|██████████| 10/10 [00:00<00:00, 2386.25it/s]\n"
     ]
    }
   ],
   "source": [
    "actives_path = actives_extraction( \n",
    "    OUTPUT / 'allposes.sdf', \n",
    "    OUTPUT / 'rescoring_results/all_rescoring_results_merged.csv', \n",
    "    docking_tool=selected_docking_tools\n",
    "    )\n",
    "\n",
    "actives_paths = split_sdf_path(actives_path)"
   ]
  },
  {
   "cell_type": "code",
   "execution_count": 53,
   "metadata": {},
   "outputs": [
    {
     "name": "stderr",
     "output_type": "stream",
     "text": [
      "100%|██████████| 10/10 [00:01<00:00,  5.36it/s]\n"
     ]
    },
    {
     "data": {
      "image/png": "[encoded data removed]",
      "text/plain": [
       "<IPython.core.display.Image object>"
      ]
     },
     "metadata": {},
     "output_type": "display_data"
    }
   ],
   "source": [
    "# if more than chain, write in a list\n",
    "chain = 'X'\n",
    "protein_name = protein_path.stem\n",
    "\n",
    "interx_csv = OUTPUT / f'{protein_path.stem}_{chain}_interx.csv'\n",
    "fp_focused = plipify_fp_interaction(\n",
    "    ligands_path=actives_paths, \n",
    "    protein_path=protein_path, \n",
    "    protein_name='EGFR', \n",
    "    chains=chain,\n",
    "    output_file=OUTPUT / f'{protein_name}_interactions_{chain}.png'\n",
    "    )\n",
    "fp_focused['total_interactions'] = fp_focused.sum(axis=1)\n",
    "display(Image(filename=OUTPUT / f'{protein_name}_interactions_{chain}.png'))"
   ]
  },
  {
   "cell_type": "markdown",
   "metadata": {},
   "source": [
    "## Interaction fingerprints generations"
   ]
  },
  {
   "cell_type": "code",
   "execution_count": 54,
   "metadata": {},
   "outputs": [
    {
     "name": "stderr",
     "output_type": "stream",
     "text": [
      "SDF splitting:   0%|          | 0/100 [00:00<?, ?it/s]"
     ]
    },
    {
     "name": "stderr",
     "output_type": "stream",
     "text": [
      "SDF splitting: 100%|██████████| 100/100 [00:00<00:00, 3676.51it/s]\n"
     ]
    },
    {
     "name": "stdout",
     "output_type": "stream",
     "text": [
      "JSON file saved to /home/hamza/github/MolDockLab/ECFT-VS-pipeline/output/larger_data_output/fp_allposes.json\n"
     ]
    }
   ],
   "source": [
    "included_chains = ['X']\n",
    "protein_name = 'egfr'\n",
    "interactions_dict_path = larger_data_output / 'fp_allposes.json'\n",
    "ligands_paths = split_sdf_path(larger_data_output / 'allposes.sdf')\n",
    "allposes_interaction_fp = indiviudal_interaction_fp_generator(ligands_paths, \n",
    "                                                              protein_path, \n",
    "                                                              protein_name, \n",
    "                                                              included_chains, \n",
    "                                                              interactions_dict_path)"
   ]
  },
  {
   "cell_type": "code",
   "execution_count": 55,
   "metadata": {},
   "outputs": [
    {
     "name": "stdout",
     "output_type": "stream",
     "text": [
      "Interactions are converted to CSV file.\n"
     ]
    },
    {
     "data": {
      "text/html": [
       "<div>\n",
       "<style scoped>\n",
       "    .dataframe tbody tr th:only-of-type {\n",
       "        vertical-align: middle;\n",
       "    }\n",
       "\n",
       "    .dataframe tbody tr th {\n",
       "        vertical-align: top;\n",
       "    }\n",
       "\n",
       "    .dataframe thead th {\n",
       "        text-align: right;\n",
       "    }\n",
       "</style>\n",
       "<table border=\"1\" class=\"dataframe\">\n",
       "  <thead>\n",
       "    <tr style=\"text-align: right;\">\n",
       "      <th></th>\n",
       "      <th>Poses</th>\n",
       "      <th>741X</th>\n",
       "      <th>775X</th>\n",
       "      <th>790X</th>\n",
       "      <th>791X</th>\n",
       "      <th>792X</th>\n",
       "      <th>793X</th>\n",
       "      <th>794X</th>\n",
       "      <th>795X</th>\n",
       "      <th>796X</th>\n",
       "      <th>797X</th>\n",
       "      <th>800X</th>\n",
       "      <th>841X</th>\n",
       "      <th>842X</th>\n",
       "      <th>844X</th>\n",
       "      <th>854X</th>\n",
       "      <th>856X</th>\n",
       "    </tr>\n",
       "  </thead>\n",
       "  <tbody>\n",
       "    <tr>\n",
       "      <th>0</th>\n",
       "      <td>CHEMBL1830130_plants_01</td>\n",
       "      <td>0</td>\n",
       "      <td>0</td>\n",
       "      <td>1</td>\n",
       "      <td>0</td>\n",
       "      <td>0</td>\n",
       "      <td>1</td>\n",
       "      <td>0</td>\n",
       "      <td>0</td>\n",
       "      <td>0</td>\n",
       "      <td>0</td>\n",
       "      <td>0</td>\n",
       "      <td>0</td>\n",
       "      <td>0</td>\n",
       "      <td>1</td>\n",
       "      <td>0</td>\n",
       "      <td>1</td>\n",
       "    </tr>\n",
       "    <tr>\n",
       "      <th>1</th>\n",
       "      <td>CHEMBL1830130_plants_02</td>\n",
       "      <td>0</td>\n",
       "      <td>0</td>\n",
       "      <td>1</td>\n",
       "      <td>0</td>\n",
       "      <td>0</td>\n",
       "      <td>1</td>\n",
       "      <td>0</td>\n",
       "      <td>0</td>\n",
       "      <td>0</td>\n",
       "      <td>0</td>\n",
       "      <td>0</td>\n",
       "      <td>0</td>\n",
       "      <td>0</td>\n",
       "      <td>1</td>\n",
       "      <td>0</td>\n",
       "      <td>1</td>\n",
       "    </tr>\n",
       "    <tr>\n",
       "      <th>2</th>\n",
       "      <td>CHEMBL1830130_plants_03</td>\n",
       "      <td>0</td>\n",
       "      <td>0</td>\n",
       "      <td>1</td>\n",
       "      <td>0</td>\n",
       "      <td>0</td>\n",
       "      <td>1</td>\n",
       "      <td>0</td>\n",
       "      <td>0</td>\n",
       "      <td>0</td>\n",
       "      <td>0</td>\n",
       "      <td>0</td>\n",
       "      <td>0</td>\n",
       "      <td>0</td>\n",
       "      <td>1</td>\n",
       "      <td>0</td>\n",
       "      <td>1</td>\n",
       "    </tr>\n",
       "    <tr>\n",
       "      <th>3</th>\n",
       "      <td>CHEMBL1830130_plants_04</td>\n",
       "      <td>0</td>\n",
       "      <td>0</td>\n",
       "      <td>1</td>\n",
       "      <td>0</td>\n",
       "      <td>0</td>\n",
       "      <td>1</td>\n",
       "      <td>0</td>\n",
       "      <td>0</td>\n",
       "      <td>0</td>\n",
       "      <td>0</td>\n",
       "      <td>0</td>\n",
       "      <td>0</td>\n",
       "      <td>0</td>\n",
       "      <td>1</td>\n",
       "      <td>1</td>\n",
       "      <td>1</td>\n",
       "    </tr>\n",
       "    <tr>\n",
       "      <th>4</th>\n",
       "      <td>CHEMBL1830130_plants_05</td>\n",
       "      <td>0</td>\n",
       "      <td>0</td>\n",
       "      <td>0</td>\n",
       "      <td>0</td>\n",
       "      <td>0</td>\n",
       "      <td>0</td>\n",
       "      <td>0</td>\n",
       "      <td>0</td>\n",
       "      <td>0</td>\n",
       "      <td>0</td>\n",
       "      <td>0</td>\n",
       "      <td>0</td>\n",
       "      <td>0</td>\n",
       "      <td>1</td>\n",
       "      <td>0</td>\n",
       "      <td>1</td>\n",
       "    </tr>\n",
       "    <tr>\n",
       "      <th>...</th>\n",
       "      <td>...</td>\n",
       "      <td>...</td>\n",
       "      <td>...</td>\n",
       "      <td>...</td>\n",
       "      <td>...</td>\n",
       "      <td>...</td>\n",
       "      <td>...</td>\n",
       "      <td>...</td>\n",
       "      <td>...</td>\n",
       "      <td>...</td>\n",
       "      <td>...</td>\n",
       "      <td>...</td>\n",
       "      <td>...</td>\n",
       "      <td>...</td>\n",
       "      <td>...</td>\n",
       "      <td>...</td>\n",
       "      <td>...</td>\n",
       "    </tr>\n",
       "    <tr>\n",
       "      <th>95</th>\n",
       "      <td>CHEMBL5088102_plants_06</td>\n",
       "      <td>0</td>\n",
       "      <td>0</td>\n",
       "      <td>0</td>\n",
       "      <td>0</td>\n",
       "      <td>1</td>\n",
       "      <td>0</td>\n",
       "      <td>1</td>\n",
       "      <td>0</td>\n",
       "      <td>0</td>\n",
       "      <td>0</td>\n",
       "      <td>0</td>\n",
       "      <td>0</td>\n",
       "      <td>0</td>\n",
       "      <td>1</td>\n",
       "      <td>0</td>\n",
       "      <td>1</td>\n",
       "    </tr>\n",
       "    <tr>\n",
       "      <th>96</th>\n",
       "      <td>CHEMBL5088102_plants_07</td>\n",
       "      <td>0</td>\n",
       "      <td>0</td>\n",
       "      <td>0</td>\n",
       "      <td>0</td>\n",
       "      <td>1</td>\n",
       "      <td>1</td>\n",
       "      <td>0</td>\n",
       "      <td>0</td>\n",
       "      <td>0</td>\n",
       "      <td>0</td>\n",
       "      <td>0</td>\n",
       "      <td>0</td>\n",
       "      <td>0</td>\n",
       "      <td>1</td>\n",
       "      <td>0</td>\n",
       "      <td>0</td>\n",
       "    </tr>\n",
       "    <tr>\n",
       "      <th>97</th>\n",
       "      <td>CHEMBL5088102_plants_08</td>\n",
       "      <td>0</td>\n",
       "      <td>0</td>\n",
       "      <td>0</td>\n",
       "      <td>0</td>\n",
       "      <td>0</td>\n",
       "      <td>0</td>\n",
       "      <td>0</td>\n",
       "      <td>0</td>\n",
       "      <td>0</td>\n",
       "      <td>0</td>\n",
       "      <td>0</td>\n",
       "      <td>0</td>\n",
       "      <td>0</td>\n",
       "      <td>1</td>\n",
       "      <td>0</td>\n",
       "      <td>1</td>\n",
       "    </tr>\n",
       "    <tr>\n",
       "      <th>98</th>\n",
       "      <td>CHEMBL5088102_plants_09</td>\n",
       "      <td>0</td>\n",
       "      <td>0</td>\n",
       "      <td>0</td>\n",
       "      <td>1</td>\n",
       "      <td>1</td>\n",
       "      <td>1</td>\n",
       "      <td>0</td>\n",
       "      <td>0</td>\n",
       "      <td>0</td>\n",
       "      <td>0</td>\n",
       "      <td>0</td>\n",
       "      <td>0</td>\n",
       "      <td>0</td>\n",
       "      <td>1</td>\n",
       "      <td>1</td>\n",
       "      <td>1</td>\n",
       "    </tr>\n",
       "    <tr>\n",
       "      <th>99</th>\n",
       "      <td>CHEMBL5088102_plants_10</td>\n",
       "      <td>0</td>\n",
       "      <td>0</td>\n",
       "      <td>0</td>\n",
       "      <td>1</td>\n",
       "      <td>1</td>\n",
       "      <td>1</td>\n",
       "      <td>0</td>\n",
       "      <td>0</td>\n",
       "      <td>0</td>\n",
       "      <td>0</td>\n",
       "      <td>0</td>\n",
       "      <td>0</td>\n",
       "      <td>0</td>\n",
       "      <td>1</td>\n",
       "      <td>0</td>\n",
       "      <td>1</td>\n",
       "    </tr>\n",
       "  </tbody>\n",
       "</table>\n",
       "<p>100 rows × 17 columns</p>\n",
       "</div>"
      ],
      "text/plain": [
       "                      Poses  741X  775X  790X  791X  792X  793X  794X  795X  \\\n",
       "0   CHEMBL1830130_plants_01     0     0     1     0     0     1     0     0   \n",
       "1   CHEMBL1830130_plants_02     0     0     1     0     0     1     0     0   \n",
       "2   CHEMBL1830130_plants_03     0     0     1     0     0     1     0     0   \n",
       "3   CHEMBL1830130_plants_04     0     0     1     0     0     1     0     0   \n",
       "4   CHEMBL1830130_plants_05     0     0     0     0     0     0     0     0   \n",
       "..                      ...   ...   ...   ...   ...   ...   ...   ...   ...   \n",
       "95  CHEMBL5088102_plants_06     0     0     0     0     1     0     1     0   \n",
       "96  CHEMBL5088102_plants_07     0     0     0     0     1     1     0     0   \n",
       "97  CHEMBL5088102_plants_08     0     0     0     0     0     0     0     0   \n",
       "98  CHEMBL5088102_plants_09     0     0     0     1     1     1     0     0   \n",
       "99  CHEMBL5088102_plants_10     0     0     0     1     1     1     0     0   \n",
       "\n",
       "    796X  797X  800X  841X  842X  844X  854X  856X  \n",
       "0      0     0     0     0     0     1     0     1  \n",
       "1      0     0     0     0     0     1     0     1  \n",
       "2      0     0     0     0     0     1     0     1  \n",
       "3      0     0     0     0     0     1     1     1  \n",
       "4      0     0     0     0     0     1     0     1  \n",
       "..   ...   ...   ...   ...   ...   ...   ...   ...  \n",
       "95     0     0     0     0     0     1     0     1  \n",
       "96     0     0     0     0     0     1     0     0  \n",
       "97     0     0     0     0     0     1     0     1  \n",
       "98     0     0     0     0     0     1     1     1  \n",
       "99     0     0     0     0     0     1     0     1  \n",
       "\n",
       "[100 rows x 17 columns]"
      ]
     },
     "execution_count": 55,
     "metadata": {},
     "output_type": "execute_result"
    }
   ],
   "source": [
    "interactions_df = read_interactions_json(\n",
    "    json_file=interactions_dict_path, \n",
    "    output_file=larger_data_output / 'allposes_interaction_fps_final.csv'\n",
    "    )\n",
    "        \n",
    "interactions_df  "
   ]
  },
  {
   "cell_type": "markdown",
   "metadata": {},
   "source": [
    "## Frequent interactions found in active compounds are used as key interactions\n",
    "- By default top four interactions in actives are used for interactions filtration"
   ]
  },
  {
   "cell_type": "code",
   "execution_count": 56,
   "metadata": {},
   "outputs": [
    {
     "name": "stdout",
     "output_type": "stream",
     "text": [
      "Key interactions with residues are: ['856X', '793X', '844X', '797X']\n"
     ]
    }
   ],
   "source": [
    "key_interactions_resno = list(fp_focused.sort_values(by='total_interactions', ascending=False).head(4).index)\n",
    "chain = 'X'\n",
    "key_interactions_resno = [f'{resno}{chain}' for resno in key_interactions_resno]\n",
    "print(f\"Key interactions with residues are: {key_interactions_resno}\")"
   ]
  },
  {
   "cell_type": "code",
   "execution_count": 60,
   "metadata": {},
   "outputs": [
    {
     "data": {
      "text/html": [
       "<div>\n",
       "<style scoped>\n",
       "    .dataframe tbody tr th:only-of-type {\n",
       "        vertical-align: middle;\n",
       "    }\n",
       "\n",
       "    .dataframe tbody tr th {\n",
       "        vertical-align: top;\n",
       "    }\n",
       "\n",
       "    .dataframe thead th {\n",
       "        text-align: right;\n",
       "    }\n",
       "</style>\n",
       "<table border=\"1\" class=\"dataframe\">\n",
       "  <thead>\n",
       "    <tr style=\"text-align: right;\">\n",
       "      <th></th>\n",
       "      <th>id</th>\n",
       "      <th>856X</th>\n",
       "      <th>793X</th>\n",
       "      <th>844X</th>\n",
       "      <th>797X</th>\n",
       "    </tr>\n",
       "  </thead>\n",
       "  <tbody>\n",
       "    <tr>\n",
       "      <th>1</th>\n",
       "      <td>CHEMBL2424807</td>\n",
       "      <td>8</td>\n",
       "      <td>5</td>\n",
       "      <td>7</td>\n",
       "      <td>1.0</td>\n",
       "    </tr>\n",
       "    <tr>\n",
       "      <th>2</th>\n",
       "      <td>CHEMBL255871</td>\n",
       "      <td>3</td>\n",
       "      <td>9</td>\n",
       "      <td>10</td>\n",
       "      <td>4.0</td>\n",
       "    </tr>\n",
       "    <tr>\n",
       "      <th>3</th>\n",
       "      <td>CHEMBL3425665</td>\n",
       "      <td>10</td>\n",
       "      <td>9</td>\n",
       "      <td>7</td>\n",
       "      <td>4.0</td>\n",
       "    </tr>\n",
       "    <tr>\n",
       "      <th>4</th>\n",
       "      <td>CHEMBL4068047</td>\n",
       "      <td>4</td>\n",
       "      <td>8</td>\n",
       "      <td>9</td>\n",
       "      <td>5.0</td>\n",
       "    </tr>\n",
       "    <tr>\n",
       "      <th>5</th>\n",
       "      <td>CHEMBL4074615</td>\n",
       "      <td>9</td>\n",
       "      <td>7</td>\n",
       "      <td>6</td>\n",
       "      <td>5.0</td>\n",
       "    </tr>\n",
       "    <tr>\n",
       "      <th>6</th>\n",
       "      <td>CHEMBL4164936</td>\n",
       "      <td>8</td>\n",
       "      <td>1</td>\n",
       "      <td>10</td>\n",
       "      <td>1.0</td>\n",
       "    </tr>\n",
       "    <tr>\n",
       "      <th>7</th>\n",
       "      <td>CHEMBL4457733</td>\n",
       "      <td>8</td>\n",
       "      <td>7</td>\n",
       "      <td>6</td>\n",
       "      <td>3.0</td>\n",
       "    </tr>\n",
       "    <tr>\n",
       "      <th>8</th>\n",
       "      <td>CHEMBL504173</td>\n",
       "      <td>6</td>\n",
       "      <td>7</td>\n",
       "      <td>8</td>\n",
       "      <td>1.0</td>\n",
       "    </tr>\n",
       "    <tr>\n",
       "      <th>9</th>\n",
       "      <td>CHEMBL5088102</td>\n",
       "      <td>9</td>\n",
       "      <td>5</td>\n",
       "      <td>9</td>\n",
       "      <td>4.0</td>\n",
       "    </tr>\n",
       "  </tbody>\n",
       "</table>\n",
       "</div>"
      ],
      "text/plain": [
       "              id  856X  793X  844X  797X\n",
       "1  CHEMBL2424807     8     5     7   1.0\n",
       "2   CHEMBL255871     3     9    10   4.0\n",
       "3  CHEMBL3425665    10     9     7   4.0\n",
       "4  CHEMBL4068047     4     8     9   5.0\n",
       "5  CHEMBL4074615     9     7     6   5.0\n",
       "6  CHEMBL4164936     8     1    10   1.0\n",
       "7  CHEMBL4457733     8     7     6   3.0\n",
       "8   CHEMBL504173     6     7     8   1.0\n",
       "9  CHEMBL5088102     9     5     9   4.0"
      ]
     },
     "execution_count": 60,
     "metadata": {},
     "output_type": "execute_result"
    }
   ],
   "source": [
    "agg_interx_df = interactions_aggregation(\n",
    "                     interactions_df=interactions_df.reset_index(),\n",
    "                     important_interactions=key_interactions_resno,\n",
    "                     id_column='Poses'\n",
    "                    )\n",
    "agg_interx_df.replace(0, np.nan, inplace=True)\n",
    "agg_interx_df.dropna(inplace=True)\n",
    "agg_interx_df.to_csv(larger_data_output / 'selected_ligands_interaction.csv', index=False)\n",
    "\n",
    "agg_interx_df"
   ]
  },
  {
   "cell_type": "markdown",
   "metadata": {},
   "source": [
    "## Selected Scoring functions for correlation pipeline"
   ]
  },
  {
   "cell_type": "code",
   "execution_count": 61,
   "metadata": {},
   "outputs": [
    {
     "name": "stdout",
     "output_type": "stream",
     "text": [
      "sdf_0.sdf is converted to mol2\n",
      "sdf_1.sdf is converted to mol2\n",
      "sdf_2.sdf is converted to mol2\n",
      "sdf_3.sdf is converted to mol2\n",
      "sdf_4.sdf is converted to mol2\n",
      "sdf_5.sdf is converted to mol2\n",
      "sdf_6.sdf is converted to mol2\n",
      "\n",
      "\n",
      "Now rescoring with CHEMPLP ... ⌛⌛ \n",
      "chemplp is already excuted\n",
      "chemplp is already read\n",
      "\n",
      "\n",
      "Rescoring results are merged successfully 🎉🎉\n"
     ]
    }
   ],
   "source": [
    "docked_library_path = larger_data_output / \"allposes.sdf\"\n",
    "\n",
    "rescoring_function(\n",
    "    selected_scoring_functions,\n",
    "    protein_path,\n",
    "    docked_library_path,\n",
    "    ref_file,\n",
    "    ncpu=7,\n",
    ")"
   ]
  },
  {
   "cell_type": "code",
   "execution_count": 63,
   "metadata": {},
   "outputs": [
    {
     "data": {
      "image/png": "[encoded data removed]",
      "text/plain": [
       "<Figure size 600x400 with 1 Axes>"
      ]
     },
     "metadata": {},
     "output_type": "display_data"
    }
   ],
   "source": [
    "norm_scored_path = larger_data_output / 'rescoring_results' / 'all_rescoring_results_norm_robust.csv'\n",
    "df_rescored = pd.read_csv(str(larger_data_output / 'rescoring_results' / 'all_rescoring_results.csv'))\n",
    "\n",
    "df_rescored_norm = norm_scores(df_rescored)\n",
    "\n",
    "plt.figure(figsize=(6, 4))\n",
    "sns.boxplot(data=df_rescored_norm ,linewidth=.85, showfliers=False)\n",
    "plt.ylim(-1, 1)\n",
    "plt.title('Box Plot of Normalized Predicted Scores of the Docking Poses')\n",
    "plt.xticks(rotation=45) \n",
    "plt.show()\n",
    "\n",
    "df_rescored_norm.to_csv(str(norm_scored_path), index=False)"
   ]
  },
  {
   "cell_type": "code",
   "execution_count": 64,
   "metadata": {},
   "outputs": [],
   "source": [
    "rescored_library = pd.read_csv(str(norm_scored_path))\n",
    "rescored_library['id'] = rescored_library.ID.str.split('_').str[0]"
   ]
  },
  {
   "cell_type": "markdown",
   "metadata": {},
   "source": [
    "## Selected Ranking Method"
   ]
  },
  {
   "cell_type": "code",
   "execution_count": 75,
   "metadata": {},
   "outputs": [
    {
     "data": {
      "text/html": [
       "<div>\n",
       "<style scoped>\n",
       "    .dataframe tbody tr th:only-of-type {\n",
       "        vertical-align: middle;\n",
       "    }\n",
       "\n",
       "    .dataframe tbody tr th {\n",
       "        vertical-align: top;\n",
       "    }\n",
       "\n",
       "    .dataframe thead th {\n",
       "        text-align: right;\n",
       "    }\n",
       "</style>\n",
       "<table border=\"1\" class=\"dataframe\">\n",
       "  <thead>\n",
       "    <tr style=\"text-align: right;\">\n",
       "      <th></th>\n",
       "      <th>id</th>\n",
       "      <th>method6_Zscore_best</th>\n",
       "    </tr>\n",
       "  </thead>\n",
       "  <tbody>\n",
       "    <tr>\n",
       "      <th>50</th>\n",
       "      <td>CHEMBL255871</td>\n",
       "      <td>1.046731</td>\n",
       "    </tr>\n",
       "    <tr>\n",
       "      <th>0</th>\n",
       "      <td>CHEMBL4457733</td>\n",
       "      <td>0.914210</td>\n",
       "    </tr>\n",
       "    <tr>\n",
       "      <th>60</th>\n",
       "      <td>CHEMBL2424807</td>\n",
       "      <td>0.894773</td>\n",
       "    </tr>\n",
       "    <tr>\n",
       "      <th>90</th>\n",
       "      <td>CHEMBL3425665</td>\n",
       "      <td>0.805564</td>\n",
       "    </tr>\n",
       "    <tr>\n",
       "      <th>30</th>\n",
       "      <td>CHEMBL504173</td>\n",
       "      <td>0.752375</td>\n",
       "    </tr>\n",
       "    <tr>\n",
       "      <th>20</th>\n",
       "      <td>CHEMBL1830130</td>\n",
       "      <td>0.730077</td>\n",
       "    </tr>\n",
       "    <tr>\n",
       "      <th>70</th>\n",
       "      <td>CHEMBL5088102</td>\n",
       "      <td>0.452253</td>\n",
       "    </tr>\n",
       "    <tr>\n",
       "      <th>80</th>\n",
       "      <td>CHEMBL4068047</td>\n",
       "      <td>0.397688</td>\n",
       "    </tr>\n",
       "    <tr>\n",
       "      <th>40</th>\n",
       "      <td>CHEMBL4074615</td>\n",
       "      <td>-0.828743</td>\n",
       "    </tr>\n",
       "    <tr>\n",
       "      <th>17</th>\n",
       "      <td>CHEMBL4164936</td>\n",
       "      <td>-1.493160</td>\n",
       "    </tr>\n",
       "  </tbody>\n",
       "</table>\n",
       "</div>"
      ],
      "text/plain": [
       "               id  method6_Zscore_best\n",
       "50   CHEMBL255871             1.046731\n",
       "0   CHEMBL4457733             0.914210\n",
       "60  CHEMBL2424807             0.894773\n",
       "90  CHEMBL3425665             0.805564\n",
       "30   CHEMBL504173             0.752375\n",
       "20  CHEMBL1830130             0.730077\n",
       "70  CHEMBL5088102             0.452253\n",
       "80  CHEMBL4068047             0.397688\n",
       "40  CHEMBL4074615            -0.828743\n",
       "17  CHEMBL4164936            -1.493160"
      ]
     },
     "execution_count": 75,
     "metadata": {},
     "output_type": "execute_result"
    }
   ],
   "source": [
    "from src.consensus_rank import *\n",
    "ranking_methods_dict = {  \n",
    "    'method1_ECR_best' : method1_ECR_best, \n",
    "    'method2_ECR_average' : method2_ECR_average, \n",
    "    'method3_avg_ECR' : method3_avg_ECR,\n",
    "    'method4_RbR' : method4_RbR,\n",
    "    'method5_RbV' : method5_RbV,\n",
    "    'method6_Zscore_best': method6_Zscore_best,\n",
    "    'method7_Zscore_avg': method7_Zscore_avg,\n",
    "    'method8_RbN': method8_RbN,\n",
    "    'method9_weighted_ECR_best': method9_weighted_ECR_best\n",
    "    }\n",
    "ranked_sbvs_ligands = ranking_methods_dict[selected_ranking_method](\n",
    "    rescored_library,\n",
    "    weight=0.5, \n",
    "    selected_scores=selected_scoring_functions,\n",
    "    id_column='id'\n",
    "    )\n",
    "\n",
    "ranked_sbvs_ligands = ranked_sbvs_ligands.sort_values(by=ranked_sbvs_ligands.columns[-1], ascending=False)\n",
    "ranked_sbvs_ligands.to_csv(larger_data_output / 'ranked_ligands.csv', index=False)\n",
    "\n",
    "ranked_sbvs_ligands"
   ]
  },
  {
   "cell_type": "code",
   "execution_count": 74,
   "metadata": {},
   "outputs": [
    {
     "data": {
      "text/html": [
       "<div>\n",
       "<style scoped>\n",
       "    .dataframe tbody tr th:only-of-type {\n",
       "        vertical-align: middle;\n",
       "    }\n",
       "\n",
       "    .dataframe tbody tr th {\n",
       "        vertical-align: top;\n",
       "    }\n",
       "\n",
       "    .dataframe thead th {\n",
       "        text-align: right;\n",
       "    }\n",
       "</style>\n",
       "<table border=\"1\" class=\"dataframe\">\n",
       "  <thead>\n",
       "    <tr style=\"text-align: right;\">\n",
       "      <th></th>\n",
       "      <th>id</th>\n",
       "      <th>method6_Zscore_best</th>\n",
       "      <th>passed_interx_filtration</th>\n",
       "    </tr>\n",
       "  </thead>\n",
       "  <tbody>\n",
       "    <tr>\n",
       "      <th>0</th>\n",
       "      <td>CHEMBL255871</td>\n",
       "      <td>1.046731</td>\n",
       "      <td>1.0</td>\n",
       "    </tr>\n",
       "    <tr>\n",
       "      <th>1</th>\n",
       "      <td>CHEMBL4457733</td>\n",
       "      <td>0.914210</td>\n",
       "      <td>1.0</td>\n",
       "    </tr>\n",
       "    <tr>\n",
       "      <th>2</th>\n",
       "      <td>CHEMBL2424807</td>\n",
       "      <td>0.894773</td>\n",
       "      <td>1.0</td>\n",
       "    </tr>\n",
       "    <tr>\n",
       "      <th>3</th>\n",
       "      <td>CHEMBL3425665</td>\n",
       "      <td>0.805564</td>\n",
       "      <td>1.0</td>\n",
       "    </tr>\n",
       "    <tr>\n",
       "      <th>4</th>\n",
       "      <td>CHEMBL504173</td>\n",
       "      <td>0.752375</td>\n",
       "      <td>1.0</td>\n",
       "    </tr>\n",
       "    <tr>\n",
       "      <th>5</th>\n",
       "      <td>CHEMBL1830130</td>\n",
       "      <td>0.730077</td>\n",
       "      <td>0.0</td>\n",
       "    </tr>\n",
       "    <tr>\n",
       "      <th>6</th>\n",
       "      <td>CHEMBL5088102</td>\n",
       "      <td>0.452253</td>\n",
       "      <td>1.0</td>\n",
       "    </tr>\n",
       "    <tr>\n",
       "      <th>7</th>\n",
       "      <td>CHEMBL4068047</td>\n",
       "      <td>0.397688</td>\n",
       "      <td>1.0</td>\n",
       "    </tr>\n",
       "    <tr>\n",
       "      <th>8</th>\n",
       "      <td>CHEMBL4074615</td>\n",
       "      <td>-0.828743</td>\n",
       "      <td>1.0</td>\n",
       "    </tr>\n",
       "    <tr>\n",
       "      <th>9</th>\n",
       "      <td>CHEMBL4164936</td>\n",
       "      <td>-1.493160</td>\n",
       "      <td>1.0</td>\n",
       "    </tr>\n",
       "  </tbody>\n",
       "</table>\n",
       "</div>"
      ],
      "text/plain": [
       "              id  method6_Zscore_best  passed_interx_filtration\n",
       "0   CHEMBL255871             1.046731                       1.0\n",
       "1  CHEMBL4457733             0.914210                       1.0\n",
       "2  CHEMBL2424807             0.894773                       1.0\n",
       "3  CHEMBL3425665             0.805564                       1.0\n",
       "4   CHEMBL504173             0.752375                       1.0\n",
       "5  CHEMBL1830130             0.730077                       0.0\n",
       "6  CHEMBL5088102             0.452253                       1.0\n",
       "7  CHEMBL4068047             0.397688                       1.0\n",
       "8  CHEMBL4074615            -0.828743                       1.0\n",
       "9  CHEMBL4164936            -1.493160                       1.0"
      ]
     },
     "execution_count": 74,
     "metadata": {},
     "output_type": "execute_result"
    }
   ],
   "source": [
    "agg_interx_df['passed_interx_filtration'] = 1\n",
    "merged_df = pd.merge(ranked_sbvs_ligands, agg_interx_df[['id', 'passed_interx_filtration']], how='left').fillna(0)\n",
    "merged_df.to_csv(larger_data_output / 'ranked_selected_interx_ligands.csv', index=False)\n",
    "merged_df"
   ]
  },
  {
   "cell_type": "markdown",
   "metadata": {},
   "source": [
    "## Diversity selection of first 1%"
   ]
  },
  {
   "cell_type": "code",
   "execution_count": null,
   "metadata": {},
   "outputs": [],
   "source": [
    "# @TODO : write a function that cluster using K-means of the first one percent of a predifined number of clusters and output the centers of the clusters\n",
    "\n"
   ]
  }
 ],
 "metadata": {
  "kernelspec": {
   "display_name": "dockm8",
   "language": "python",
   "name": "python3"
  },
  "language_info": {
   "codemirror_mode": {
    "name": "ipython",
    "version": 3
   },
   "file_extension": ".py",
   "mimetype": "text/x-python",
   "name": "python",
   "nbconvert_exporter": "python",
   "pygments_lexer": "ipython3",
   "version": "3.10.14"
  }
 },
 "nbformat": 4,
 "nbformat_minor": 2
}
